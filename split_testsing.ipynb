{
 "cells": [
  {
   "cell_type": "code",
   "execution_count": null,
   "id": "186b8272",
   "metadata": {},
   "outputs": [],
   "source": [
    "from hyrax import Hyrax\n",
    "\n",
    "h = Hyrax()\n",
    "h.set_config(\"train.epochs\", 1)"
   ]
  },
  {
   "cell_type": "code",
   "execution_count": null,
   "id": "e1783b9d",
   "metadata": {},
   "outputs": [],
   "source": [
    "m = h.train()"
   ]
  },
  {
   "cell_type": "code",
   "execution_count": null,
   "id": "8b45894e",
   "metadata": {},
   "outputs": [],
   "source": [
    "h.infer()"
   ]
  },
  {
   "cell_type": "code",
   "execution_count": null,
   "id": "8e36ee0f",
   "metadata": {},
   "outputs": [],
   "source": [
    "model_inputs = {\n",
    "    \"train\": {\n",
    "        \"data\": {\n",
    "            \"dataset_class\": \"HyraxRandomDataset\",\n",
    "            \"data_location\": \"./data1_train\",\n",
    "            \"primary_id_field\": \"object_id\",\n",
    "            \"dataset_config\": {\n",
    "                \"shape\": (3, 16, 16),\n",
    "            },\n",
    "        },\n",
    "    },\n",
    "    \"validate\": {\n",
    "        \"data\": {\n",
    "            \"dataset_class\": \"HyraxRandomDataset\",\n",
    "            \"data_location\": \"./data1_validate\",\n",
    "            \"primary_id_field\": \"object_id\",\n",
    "            \"dataset_config\": {\n",
    "                \"shape\": (3, 16, 16),\n",
    "            },\n",
    "        },\n",
    "    },\n",
    "    \"infer\": {\n",
    "        \"data\": {\n",
    "            \"dataset_class\": \"HyraxRandomDataset\",\n",
    "            \"data_location\": \"./data1_infer\",\n",
    "            \"primary_id_field\": \"object_id\",\n",
    "            \"dataset_config\": {\n",
    "                \"shape\": (3, 16, 16),\n",
    "                \"size\": 10_000,\n",
    "            },\n",
    "        },\n",
    "    },\n",
    "}\n",
    "\n",
    "h.config[\"model_inputs\"] = model_inputs"
   ]
  },
  {
   "cell_type": "code",
   "execution_count": null,
   "id": "a35c03da",
   "metadata": {},
   "outputs": [],
   "source": [
    "m = h.train()"
   ]
  },
  {
   "cell_type": "code",
   "execution_count": null,
   "id": "3b376bcb",
   "metadata": {},
   "outputs": [],
   "source": [
    "# This config update is here because of an unrelated bug that I stumbled across where the system\n",
    "# was not using the most recent model weights file, but instead the one before that.\n",
    "h.set_config(\"infer.model_weights_file\", False)\n",
    "h.infer()"
   ]
  },
  {
   "cell_type": "code",
   "execution_count": null,
   "id": "ac7d30bb",
   "metadata": {},
   "outputs": [],
   "source": [
    "model_inputs = {\n",
    "    \"train\": {\n",
    "        \"data\": {\n",
    "            \"dataset_class\": \"HyraxRandomIterableDataset\",\n",
    "            \"data_location\": \"./data_train\",\n",
    "            \"primary_id_field\": \"object_id\",\n",
    "            \"dataset_config\": {\n",
    "                \"shape\": (3, 16, 16),\n",
    "            },\n",
    "        },\n",
    "    },\n",
    "    \"validate\": {\n",
    "        \"data\": {\n",
    "            \"dataset_class\": \"HyraxRandomIterableDataset\",\n",
    "            \"data_location\": \"./data_validate\",\n",
    "            \"primary_id_field\": \"object_id\",\n",
    "            \"dataset_config\": {\n",
    "                \"shape\": (3, 16, 16),\n",
    "            },\n",
    "        },\n",
    "    },\n",
    "    \"infer\": {\n",
    "        \"data\": {\n",
    "            \"dataset_class\": \"HyraxRandomIterableDataset\",\n",
    "            \"data_location\": \"./data_infer\",\n",
    "            \"primary_id_field\": \"object_id\",\n",
    "            \"dataset_config\": {\n",
    "                \"shape\": (3, 16, 16),\n",
    "                \"size\": 10_000,\n",
    "            },\n",
    "        },\n",
    "    },\n",
    "}\n",
    "\n",
    "h.config[\"model_inputs\"] = model_inputs"
   ]
  },
  {
   "cell_type": "code",
   "execution_count": null,
   "id": "2c317c78",
   "metadata": {},
   "outputs": [],
   "source": [
    "ds = h.prepare()"
   ]
  },
  {
   "cell_type": "code",
   "execution_count": null,
   "id": "ded63425",
   "metadata": {},
   "outputs": [],
   "source": [
    "next(iter(ds['train']))"
   ]
  },
  {
   "cell_type": "code",
   "execution_count": null,
   "id": "127a92eb",
   "metadata": {},
   "outputs": [],
   "source": [
    "next(iter(ds['train']))"
   ]
  },
  {
   "cell_type": "code",
   "execution_count": null,
   "id": "b869d550",
   "metadata": {},
   "outputs": [],
   "source": []
  }
 ],
 "metadata": {
  "kernelspec": {
   "display_name": "hyrax",
   "language": "python",
   "name": "python3"
  },
  "language_info": {
   "codemirror_mode": {
    "name": "ipython",
    "version": 3
   },
   "file_extension": ".py",
   "mimetype": "text/x-python",
   "name": "python",
   "nbconvert_exporter": "python",
   "pygments_lexer": "ipython3",
   "version": "3.12.9"
  }
 },
 "nbformat": 4,
 "nbformat_minor": 5
}
