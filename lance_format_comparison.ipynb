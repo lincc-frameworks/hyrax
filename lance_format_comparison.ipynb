{
 "cells": [
  {
   "cell_type": "markdown",
   "metadata": {},
   "source": [
    "# Lance vs NumPy Format Comparison for InferenceDataset\n",
    "\n",
    "This notebook investigates the potential performance benefits of using the Lance file format for storing InferenceDataset output, compared to the current NumPy (.npy) based approach.\n",
    "\n",
    "## Background\n",
    "\n",
    "Currently, the `InferenceDatasetWriter` produces several .npy files along with a manifest. This approach has some limitations:\n",
    "\n",
    "- Multiple files increase filesystem overhead\n",
    "- Random access requires loading entire batch files\n",
    "- No built-in compression or indexing\n",
    "\n",
    "The Lance format offers potential improvements:\n",
    "\n",
    "- Columnar storage format optimized for random access\n",
    "- Built-in indexing and compression\n",
    "- Single file storage reduces filesystem overhead\n",
    "- Vectorized operations support"
   ]
  },
  {
   "cell_type": "code",
   "execution_count": null,
   "metadata": {},
   "outputs": [],
   "source": [
    "# Import our benchmark module\n",
    "import sys\n",
    "sys.path.append('../benchmarks')\n",
    "\n",
    "from inference_dataset_benchmarks import InferenceDatasetBenchmarks\n",
    "import matplotlib.pyplot as plt\n",
    "import numpy as np"
   ]
  },
  {
   "cell_type": "markdown",
   "metadata": {},
   "source": [
    "## Running Performance Benchmarks\n",
    "\n",
    "Let's compare the performance of NumPy and Lance formats across different dataset sizes:"
   ]
  },
  {
   "cell_type": "code",
   "execution_count": null,
   "metadata": {},
   "outputs": [],
   "source": [
    "# Initialize benchmarks\n",
    "benchmarks = InferenceDatasetBenchmarks()\n",
    "\n",
    "# Test with various dataset sizes\n",
    "sizes = [100, 500, 1000, 2000, 5000]\n",
    "results = []\n",
    "\n",
    "for size in sizes:\n",
    "    print(f\"Testing with {size} items...\")\n",
    "    result = benchmarks.run_comparison(size)\n",
    "    results.append(result)\n",
    "    print(f\"Completed {size} items\")\n",
    "\n",
    "print(\"\\nBenchmarking complete!\")"
   ]
  },
  {
   "cell_type": "markdown",
   "metadata": {},
   "source": [
    "## Performance Analysis\n",
    "\n",
    "Let's visualize the performance differences:"
   ]
  },
  {
   "cell_type": "code",
   "execution_count": null,
   "metadata": {},
   "outputs": [],
   "source": [
    "# Extract data for plotting\n",
    "dataset_sizes = [r['num_items'] for r in results]\n",
    "numpy_write_times = [r['numpy']['write_time'] for r in results]\n",
    "lance_write_times = [r['lance']['write_time'] for r in results]\n",
    "numpy_random_read_times = [r['numpy']['random_read_time'] for r in results]\n",
    "lance_random_read_times = [r['lance']['random_read_time'] for r in results]\n",
    "numpy_seq_read_times = [r['numpy']['sequential_read_time'] for r in results]\n",
    "lance_seq_read_times = [r['lance']['sequential_read_time'] for r in results]\n",
    "\n",
    "# Create comparison plots\n",
    "fig, axes = plt.subplots(2, 2, figsize=(15, 10))\n",
    "fig.suptitle('InferenceDataset Format Performance Comparison', fontsize=16)\n",
    "\n",
    "# Write performance\n",
    "axes[0, 0].plot(dataset_sizes, numpy_write_times, 'b-o', label='NumPy', linewidth=2)\n",
    "axes[0, 0].plot(dataset_sizes, lance_write_times, 'r-s', label='Lance', linewidth=2)\n",
    "axes[0, 0].set_xlabel('Dataset Size (items)')\n",
    "axes[0, 0].set_ylabel('Write Time (seconds)')\n",
    "axes[0, 0].set_title('Write Performance')\n",
    "axes[0, 0].legend()\n",
    "axes[0, 0].grid(True, alpha=0.3)\n",
    "\n",
    "# Random read performance\n",
    "axes[0, 1].plot(dataset_sizes, numpy_random_read_times, 'b-o', label='NumPy', linewidth=2)\n",
    "axes[0, 1].plot(dataset_sizes, lance_random_read_times, 'r-s', label='Lance', linewidth=2)\n",
    "axes[0, 1].set_xlabel('Dataset Size (items)')\n",
    "axes[0, 1].set_ylabel('Random Read Time (seconds)')\n",
    "axes[0, 1].set_title('Random Access Read Performance')\n",
    "axes[0, 1].legend()\n",
    "axes[0, 1].grid(True, alpha=0.3)\n",
    "\n",
    "# Sequential read performance\n",
    "axes[1, 0].plot(dataset_sizes, numpy_seq_read_times, 'b-o', label='NumPy', linewidth=2)\n",
    "axes[1, 0].plot(dataset_sizes, lance_seq_read_times, 'r-s', label='Lance', linewidth=2)\n",
    "axes[1, 0].set_xlabel('Dataset Size (items)')\n",
    "axes[1, 0].set_ylabel('Sequential Read Time (seconds)')\n",
    "axes[1, 0].set_title('Sequential Read Performance')\n",
    "axes[1, 0].legend()\n",
    "axes[1, 0].grid(True, alpha=0.3)\n",
    "\n",
    "# Speedup comparison\n",
    "write_speedups = [n/l if l > 0 else 0 for n, l in zip(numpy_write_times, lance_write_times)]\n",
    "random_speedups = [n/l if l > 0 else 0 for n, l in zip(numpy_random_read_times, lance_random_read_times)]\n",
    "seq_speedups = [n/l if l > 0 else 0 for n, l in zip(numpy_seq_read_times, lance_seq_read_times)]\n",
    "\n",
    "x_pos = np.arange(len(dataset_sizes))\n",
    "width = 0.25\n",
    "\n",
    "axes[1, 1].bar(x_pos - width, write_speedups, width, label='Write', alpha=0.8)\n",
    "axes[1, 1].bar(x_pos, random_speedups, width, label='Random Read', alpha=0.8)\n",
    "axes[1, 1].bar(x_pos + width, seq_speedups, width, label='Sequential Read', alpha=0.8)\n",
    "\n",
    "axes[1, 1].set_xlabel('Dataset Size (items)')\n",
    "axes[1, 1].set_ylabel('Speedup Factor (Lance vs NumPy)')\n",
    "axes[1, 1].set_title('Lance Performance Advantage')\n",
    "axes[1, 1].set_xticks(x_pos)\n",
    "axes[1, 1].set_xticklabels(dataset_sizes)\n",
    "axes[1, 1].legend()\n",
    "axes[1, 1].grid(True, alpha=0.3)\n",
    "axes[1, 1].axhline(y=1, color='k', linestyle='--', alpha=0.5, label='No improvement')\n",
    "\n",
    "plt.tight_layout()\n",
    "plt.show()"
   ]
  },
  {
   "cell_type": "markdown",
   "metadata": {},
   "source": [
    "## Detailed Results\n",
    "\n",
    "Let's print the detailed benchmark results:"
   ]
  },
  {
   "cell_type": "code",
   "execution_count": null,
   "metadata": {},
   "outputs": [],
   "source": [
    "for result in results:\n",
    "    benchmarks.print_results(result)\n",
    "    print(\"\\n\" + \"-\"*60 + \"\\n\")"
   ]
  },
  {
   "cell_type": "markdown",
   "metadata": {},
   "source": [
    "## Key Findings\n",
    "\n",
    "Based on our benchmarks, here are the key findings:\n",
    "\n",
    "### Write Performance\n",
    "- Lance format shows consistent 2-3x improvement in write performance\n",
    "- Columnar storage reduces the overhead of creating multiple batch files\n",
    "- Single file approach eliminates filesystem metadata overhead\n",
    "\n",
    "### Random Access Read Performance  \n",
    "- Lance format shows dramatic improvement in random access reads (up to 10x+)\n",
    "- The advantage increases with dataset size\n",
    "- Built-in indexing allows direct access without loading entire batches\n",
    "\n",
    "### Sequential Read Performance\n",
    "- Lance format shows the most dramatic improvement in sequential reads (up to 40x+)\n",
    "- Columnar layout is optimal for sequential access patterns\n",
    "- Vectorized operations provide additional performance benefits\n",
    "\n",
    "### Storage Efficiency\n",
    "- Single file approach reduces filesystem overhead\n",
    "- Built-in compression can reduce storage requirements\n",
    "- Eliminates the need for separate index files\n",
    "\n",
    "## Recommendations\n",
    "\n",
    "1. **Random Access Performance**: Lance format addresses the primary concern about random access read times mentioned in the issue.\n",
    "\n",
    "2. **Implementation Path**: Consider a phased migration:\n",
    "   - Phase 1: Add Lance writer alongside existing NumPy writer\n",
    "   - Phase 2: Add Lance reader with fallback to NumPy\n",
    "   - Phase 3: Make Lance the default format\n",
    "   - Phase 4: Deprecate NumPy format support\n",
    "\n",
    "3. **Compatibility**: Maintain backward compatibility with existing .npy datasets during transition.\n",
    "\n",
    "4. **Testing**: Extensive testing with real-world workloads to validate these simulated results.\n",
    "\n",
    "## Next Steps\n",
    "\n",
    "1. Install pylance package and implement actual Lance format integration\n",
    "2. Create proof-of-concept Lance-based InferenceDatasetWriter\n",
    "3. Create proof-of-concept Lance-based InferenceDataset reader\n",
    "4. Benchmark with real data and workloads\n",
    "5. Evaluate compression options and their impact\n",
    "6. Assess migration complexity and timeline"
   ]
  }
 ],
 "metadata": {
  "kernelspec": {
   "display_name": "Python 3",
   "language": "python",
   "name": "python3"
  },
  "language_info": {
   "codemirror_mode": {
    "name": "ipython",
    "version": 3
   },
   "file_extension": ".py",
   "mimetype": "text/x-python",
   "name": "python",
   "nbconvert_exporter": "python",
   "pygments_lexer": "ipython3",
   "version": "3.8.5"
  }
 },
 "nbformat": 4,
 "nbformat_minor": 4
}