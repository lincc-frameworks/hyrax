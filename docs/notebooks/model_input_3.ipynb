{
 "cells": [
  {
   "cell_type": "markdown",
   "id": "b19e006d",
   "metadata": {},
   "source": [
    "# Providing Data - Level 3\n",
    "## Directory-based vs. Percentage-based dataset splits\n",
    "When we don't provide a `model_inputs.validate` key, then we'll use the dataset defined in `train` and the percentages defined in `data_set.train_size`, `data_set.validate_size` and `data_set.test_size` to define percentage or absolute number splits.\n",
    "\n",
    "## Defining what data to use for inference\n",
    "Introduce `model_inputs.infer` as the way to define what data is provided to the model during inference.\n",
    "\n",
    "## Requesting multi-modal data\n",
    "\n",
    "In this notebook we'll see how to request data from multiple data sources using multiple ``HyraxDataset``s.\n",
    "\n",
    "To do so we'll start with ``model_inputs`` data request. "
   ]
  },
  {
   "cell_type": "markdown",
   "id": "9b20cc7b",
   "metadata": {},
   "source": []
  }
 ],
 "metadata": {
  "language_info": {
   "name": "python"
  }
 },
 "nbformat": 4,
 "nbformat_minor": 5
}
