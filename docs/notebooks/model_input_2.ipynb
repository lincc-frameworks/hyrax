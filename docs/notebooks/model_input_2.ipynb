{
 "cells": [
  {
   "cell_type": "markdown",
   "id": "5872c787",
   "metadata": {},
   "source": [
    "# Providing Data - Level 2\n",
    "## Fine grained control over requested data\n",
    "\n",
    "In this notebook we’ll explore a few more options you can put in ``model_inputs`` to control exactly what data your model receives.\n",
    "\n",
    "We’ll continue with the built-in ``HyraxRandomDataset`` from Level 1 to demonstrate passing dataset-specific options via ``dataset_config``.\n",
    "After that we’ll switch to ``HyraxCifar`` to show how to use ``data_location`` and ``fields`` so you can request only the pieces you need.\n",
    "\n",
    "As always, start by creating an instance of the Hyrax class, then preparing the same dataset that was used at the end of Level 1."
   ]
  },
  {
   "cell_type": "code",
   "execution_count": null,
   "id": "744b9f7f",
   "metadata": {},
   "outputs": [],
   "source": [
    "from hyrax import Hyrax\n",
    "\n",
    "h = Hyrax()"
   ]
  },
  {
   "cell_type": "code",
   "execution_count": null,
   "id": "694e82e7",
   "metadata": {},
   "outputs": [],
   "source": [
    "h.config[\"model_inputs\"] = {\n",
    "    \"data\": {\n",
    "        \"dataset_class\": \"HyraxRandomDataset\",\n",
    "        \"primary_id_field\": \"object_id\",\n",
    "    },\n",
    "}\n",
    "\n",
    "# Prepare \"model_inputs\"\n",
    "d = h.prepare()\n",
    "\n",
    "# Print a sample of the data\n",
    "d.sample_data()"
   ]
  },
  {
   "cell_type": "markdown",
   "id": "4a8e9601",
   "metadata": {},
   "source": [
    "## Dataset-specific configurations\n",
    "\n",
    "The HyraxRandomDataset is very flexible, and has several configuration settings that can be specified.\n",
    "Let's see how we can set the shape of the returned \"image\" using \"model_inputs\"."
   ]
  },
  {
   "cell_type": "code",
   "execution_count": null,
   "id": "23be8128",
   "metadata": {},
   "outputs": [],
   "source": [
    "h.config[\"model_inputs\"] = {\n",
    "    \"data\": {\n",
    "        \"dataset_class\": \"HyraxRandomDataset\",\n",
    "        \"primary_id_field\": \"object_id\",\n",
    "        \"dataset_config\": {\n",
    "            \"shape\": (3, 2, 4),  # <- Change the shape of the \"image\" - 3 channels, 2 height, 4 width\n",
    "        },\n",
    "    },\n",
    "}\n",
    "\n",
    "d = h.prepare()\n",
    "\n",
    "d.sample_data()"
   ]
  },
  {
   "cell_type": "markdown",
   "id": "4d2b3d68",
   "metadata": {},
   "source": [
    "Any other dataset configuration parameters can be set in the \"dataset_config\" dictionary.\n",
    "While the may seem redundant (since you can set these same values elsewhere in the config)\n",
    "the real power of this show in Providing Data - Level 3 when we request data from multiple datasets at once."
   ]
  },
  {
   "cell_type": "markdown",
   "id": "cbb28731",
   "metadata": {},
   "source": [
    "## If you only want _some_ fields\n",
    "\n",
    "In the minimal setup, Hyrax grabs all the fields that a dataset can provide.\n",
    "That’s handy for a quick demo, but in real projects you usually don’t want everything.\n",
    "For example, you might only need images and labels, while ignoring extra metadata.\n",
    "\n",
    "Fortunately, you’re in control. The ``DataProvider`` can show you exactly which fields are available,\n",
    "and the ``model_inputs`` configuration lets you pick and choose the ones you actually want."
   ]
  },
  {
   "cell_type": "code",
   "execution_count": null,
   "id": "173e4687",
   "metadata": {},
   "outputs": [],
   "source": [
    "d.fields()"
   ]
  },
  {
   "cell_type": "code",
   "execution_count": null,
   "id": "5abd1a0d",
   "metadata": {},
   "outputs": [],
   "source": [
    "h.config[\"model_inputs\"] = {\n",
    "    \"data\": {\n",
    "        \"dataset_class\": \"HyraxRandomDataset\",\n",
    "        \"primary_id_field\": \"object_id\",\n",
    "        \"fields\": [\"image\", \"meta_field_2\", \"object_id\"],  # <- Request only specific fields.\n",
    "        \"dataset_config\": {\n",
    "            \"shape\": (3, 2, 4),  # <- Change the shape of the \"image\" - 3 channels, 2 height, 4 width\n",
    "        },\n",
    "    },\n",
    "}\n",
    "\n",
    "d = h.prepare()\n",
    "\n",
    "d.sample_data()"
   ]
  },
  {
   "cell_type": "markdown",
   "id": "0e44a224",
   "metadata": {},
   "source": [
    "Huzzah! 🎉 We just looked at all the fields that ``HyraxRandomDataset`` can provide,\n",
    "and then updated ``model_inputs`` to request only \"image\" and \"meta_field_2\".\n",
    "Now our ``DataProvider`` returns exactly the fields we want — no extras."
   ]
  }
 ],
 "metadata": {
  "kernelspec": {
   "display_name": "hyrax",
   "language": "python",
   "name": "python3"
  },
  "language_info": {
   "codemirror_mode": {
    "name": "ipython",
    "version": 3
   },
   "file_extension": ".py",
   "mimetype": "text/x-python",
   "name": "python",
   "nbconvert_exporter": "python",
   "pygments_lexer": "ipython3",
   "version": "3.12.9"
  }
 },
 "nbformat": 4,
 "nbformat_minor": 5
}
