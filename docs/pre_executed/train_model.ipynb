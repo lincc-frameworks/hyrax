{
 "cells": [
  {
   "cell_type": "markdown",
   "metadata": {},
   "source": [
    "# Hyrax Getting Started\n",
    "\n",
    "In this getting started notebook we'll create an instance of a Hyrax object, train a builtin model on the CiFAR training dataset, and then use that trained model to run inference on the CiFAR testing dataset."
   ]
  },
  {
   "cell_type": "markdown",
   "metadata": {},
   "source": [
    "## Create a Hyrax instance"
   ]
  },
  {
   "cell_type": "code",
   "execution_count": 1,
   "metadata": {},
   "outputs": [],
   "source": [
    "import hyrax\n",
    "\n",
    "h = hyrax.Hyrax()"
   ]
  },
  {
   "cell_type": "markdown",
   "metadata": {},
   "source": [
    "## Update the configuration"
   ]
  },
  {
   "cell_type": "code",
   "execution_count": 2,
   "metadata": {},
   "outputs": [
    {
     "name": "stderr",
     "output_type": "stream",
     "text": [
      "[2025-10-28 15:46:34,824 hyrax.config_utils:WARNING] Cannot find default_config.toml for umap.UMAP.\n",
      "[2025-10-28 15:46:34,832 hyrax.config_utils:WARNING] Cannot find default_config.toml for umap.UMAP.\n",
      "[2025-10-28 15:46:34,841 hyrax.config_utils:WARNING] Cannot find default_config.toml for umap.UMAP.\n",
      "[2025-10-28 15:46:34,845 hyrax.config_utils:WARNING] Runtime config contains key or section 'train' which has no default defined. All configuration keys and sections must be defined in /Users/drew/code/hyrax/src/hyrax/hyrax_default_config.toml\n",
      "[2025-10-28 15:46:34,846 hyrax.config_utils:WARNING] Runtime config contains key or section 'infer' which has no default defined. All configuration keys and sections must be defined in /Users/drew/code/hyrax/src/hyrax/hyrax_default_config.toml\n"
     ]
    }
   ],
   "source": [
    "h.set_config(\"model.name\", \"HyraxAutoencoderV2\")\n",
    "h.set_config(\"train.epochs\", 1)\n",
    "\n",
    "data_definition = {\n",
    "    \"train\": {\n",
    "        \"data\": {\n",
    "            \"dataset_class\": \"HyraxRandomDataset\",\n",
    "            \"data_location\": \"./data\",\n",
    "            \"primary_id_field\": \"object_id\",\n",
    "        },\n",
    "    },\n",
    "    \"infer\": {\n",
    "        \"data\": {\n",
    "            \"dataset_class\": \"HyraxRandomDataset\",\n",
    "            \"data_location\": \"./data\",\n",
    "            \"primary_id_field\": \"object_id\",\n",
    "        },\n",
    "    },\n",
    "}\n",
    "\n",
    "h.set_config(\"model_inputs\", data_definition)"
   ]
  },
  {
   "cell_type": "markdown",
   "metadata": {},
   "source": [
    "For this demo, we'll make a few adjustments to the default configuration settings that the `hyrax` object was instantiated with.\n",
    "By accessing the `.config` attribute of the hyrax instance, we can modify any configuration value.\n",
    "There are many configuration values that can be set, but here, we update only the model to train."
   ]
  },
  {
   "cell_type": "markdown",
   "metadata": {},
   "source": [
    "## Train a model"
   ]
  },
  {
   "cell_type": "code",
   "execution_count": 3,
   "metadata": {},
   "outputs": [
    {
     "name": "stderr",
     "output_type": "stream",
     "text": [
      "[2025-10-28 15:46:37,525 hyrax.verbs.train:INFO] \u001b[1m\u001b[30m\u001b[42mTraining model:\u001b[0m HyraxAutoencoderV2\n",
      "[2025-10-28 15:46:37,526 hyrax.verbs.train:INFO] \u001b[1m\u001b[30m\u001b[42mTraining dataset(s):\u001b[0m\n",
      "{'train': Name: data (primary dataset)\n",
      "  Dataset class: HyraxRandomDataset\n",
      "  Data location: ./data\n",
      "  Primary ID field: object_id\n",
      "  Requested fields: image, label, meta_field_1, meta_field_2, object_id\n",
      ", 'infer': Name: data (primary dataset)\n",
      "  Dataset class: HyraxRandomDataset\n",
      "  Data location: ./data\n",
      "  Primary ID field: object_id\n",
      "  Requested fields: image, label, meta_field_1, meta_field_2, object_id\n",
      "}\n",
      "2025-10-28 15:46:37,537 ignite.distributed.auto.auto_dataloader INFO: Use data loader kwargs for dataset 'Name: data (primary': \n",
      "\t{'sampler': <hyrax.pytorch_ignite.SubsetSequentialSampler object at 0x30aab0650>, 'batch_size': 512, 'shuffle': False, 'collate_fn': None, 'pin_memory': False}\n",
      "2025-10-28 15:46:37,537 ignite.distributed.auto.auto_dataloader INFO: Use data loader kwargs for dataset 'Name: data (primary': \n",
      "\t{'sampler': <hyrax.pytorch_ignite.SubsetSequentialSampler object at 0x30aab0740>, 'batch_size': 512, 'shuffle': False, 'collate_fn': None, 'pin_memory': False}\n",
      "2025/10/28 15:46:37 INFO mlflow.system_metrics.system_metrics_monitor: Skip logging GPU metrics. Set logger level to DEBUG for more details.\n",
      "2025/10/28 15:46:37 INFO mlflow.system_metrics.system_metrics_monitor: Started monitoring system metrics.\n"
     ]
    },
    {
     "data": {
      "application/vnd.jupyter.widget-view+json": {
       "model_id": "0dbc6f642889409c81b6473ad8c3e814",
       "version_major": 2,
       "version_minor": 0
      },
      "text/plain": [
       "100%|##########| 1/1 [00:00<?, ?it/s]"
      ]
     },
     "metadata": {},
     "output_type": "display_data"
    },
    {
     "name": "stderr",
     "output_type": "stream",
     "text": [
      "[2025-10-28 15:46:38,169 hyrax.pytorch_ignite:INFO] Total training time: 0.52[s]\n",
      "2025/10/28 15:46:38 INFO mlflow.system_metrics.system_metrics_monitor: Stopping system metrics monitoring...\n",
      "2025/10/28 15:46:38 INFO mlflow.system_metrics.system_metrics_monitor: Successfully terminated system metrics monitoring!\n",
      "[2025-10-28 15:46:38,185 hyrax.verbs.train:INFO] Finished Training\n"
     ]
    }
   ],
   "source": [
    "m = h.train()"
   ]
  },
  {
   "cell_type": "markdown",
   "metadata": {},
   "source": [
    "The output of the training will be stored in a time-stamped directory under the `./results/`.\n",
    "By default, a copy of the final configuration used in training is persisted as `runtime_config.toml`.\n",
    "To train again with the same configuration, you can reference this runtime_config.toml file.\n",
    "\n",
    "If running in another notebook, instantiate a hyrax object like so:\n",
    "```\n",
    "new_hyrax_instance = hyrax.Hyrax(config_file='./results/<timestamped_directory>/runtime_config.toml')\n",
    "```\n",
    "\n",
    "Or from the command line:\n",
    "```\n",
    ">> hyrax train --runtime-config ./results/<timestamped_directory>/runtime_config.toml\n",
    "```\n",
    "\n",
    "Note here we're training on only a small handful of CiFAR data, but Hyrax has demonstrated that it can scale up to training sets with >1M samples."
   ]
  },
  {
   "cell_type": "markdown",
   "metadata": {},
   "source": [
    "## Run inference"
   ]
  },
  {
   "cell_type": "code",
   "execution_count": 4,
   "metadata": {},
   "outputs": [
    {
     "name": "stderr",
     "output_type": "stream",
     "text": [
      "[2025-10-28 15:46:38,314 hyrax.verbs.infer:INFO] \u001b[1m\u001b[30m\u001b[42mInference model:\u001b[0m HyraxAutoencoderV2\n",
      "[2025-10-28 15:46:38,314 hyrax.verbs.infer:INFO] \u001b[1m\u001b[30m\u001b[42mInference dataset(s):\u001b[0m\n",
      "{'train': Name: data (primary dataset)\n",
      "  Dataset class: HyraxRandomDataset\n",
      "  Data location: ./data\n",
      "  Primary ID field: object_id\n",
      "  Requested fields: image, label, meta_field_1, meta_field_2, object_id\n",
      ", 'infer': Name: data (primary dataset)\n",
      "  Dataset class: HyraxRandomDataset\n",
      "  Data location: ./data\n",
      "  Primary ID field: object_id\n",
      "  Requested fields: image, label, meta_field_1, meta_field_2, object_id\n",
      "}\n",
      "2025-10-28 15:46:38,315 ignite.distributed.auto.auto_dataloader INFO: Use data loader kwargs for dataset 'Name: data (primary': \n",
      "\t{'sampler': None, 'batch_size': 128, 'shuffle': False, 'collate_fn': None, 'pin_memory': False}\n",
      "[2025-10-28 15:46:38,326 hyrax.verbs.infer:INFO] Saving inference results at: /Users/drew/code/hyrax/docs/pre_executed/results/20251028-154638-infer-wXcW\n"
     ]
    },
    {
     "data": {
      "application/vnd.jupyter.widget-view+json": {
       "model_id": "cc8f92ec19d641cca8af87b07025b606",
       "version_major": 2,
       "version_minor": 0
      },
      "text/plain": [
       "100%|##########| 1/1 [00:00<?, ?it/s]"
      ]
     },
     "metadata": {},
     "output_type": "display_data"
    },
    {
     "name": "stderr",
     "output_type": "stream",
     "text": [
      "[2025-10-28 15:46:38,497 hyrax.pytorch_ignite:INFO] Total evaluation time: 0.04[s]\n",
      "[2025-10-28 15:46:38,580 hyrax.verbs.infer:INFO] Inference Complete.\n"
     ]
    }
   ],
   "source": [
    "h.config[\"data_set\"][\"test_size\"] = 1.0\n",
    "h.config[\"data_set\"][\"train_size\"] = 0.0\n",
    "h.config[\"data_set\"][\"validate_size\"] = 0.0\n",
    "h.config[\"data_loader\"][\"batch_size\"] = 128\n",
    "\n",
    "output = h.infer()"
   ]
  },
  {
   "cell_type": "markdown",
   "metadata": {},
   "source": [
    "Once a model has been trained, we can use the model weights file to run inference.\n",
    "By default running `infer` will look for the latest available model weights file.\n",
    "A specific model weights file can be specified with `h.config['infer']['model_weights_file'] = <path_to_model_weights_file>`.\n",
    "\n",
    "Here we'll make use of the last trained model weights file, and update the data set splits so that 100% of the data will be used for inference.\n",
    "\n",
    "With the configuration updated, we can run inference by calling `h.infer()`.\n",
    "\n",
    "The results of running inference are saved in the output directory noted in the last log line.\n",
    "The default output format is batched .npy files.\n",
    "Additionally a ChromaDB vector database will be populated with the inference results to enable efficient similarity search."
   ]
  }
 ],
 "metadata": {
  "kernelspec": {
   "display_name": "fibad",
   "language": "python",
   "name": "python3"
  },
  "language_info": {
   "codemirror_mode": {
    "name": "ipython",
    "version": 3
   },
   "file_extension": ".py",
   "mimetype": "text/x-python",
   "name": "python",
   "nbconvert_exporter": "python",
   "pygments_lexer": "ipython3",
   "version": "3.12.8"
  }
 },
 "nbformat": 4,
 "nbformat_minor": 2
}
