{
 "cells": [
  {
   "cell_type": "markdown",
   "id": "f163b281",
   "metadata": {},
   "source": [
    "# Vector Database Demo\n",
    "\n",
    "A vector database allows for efficient similarity searches by managing a data structure on behalf of the user that defines a distant between any two vectors. This allows the user to query the database for similar vectors given an input vector. In this notebook, we'll see how to use the Hyrax to work with the built in vector database."
   ]
  },
  {
   "cell_type": "markdown",
   "id": "5f174ad0",
   "metadata": {},
   "source": [
    "As usual, we'll start by creating an instance of a `Hyrax` object and then quickly `train` the default HyraxAutoencoder. After than we'll run some data through `infer` to produce our encoded vectors."
   ]
  },
  {
   "cell_type": "code",
   "execution_count": 1,
   "id": "44b00d84",
   "metadata": {},
   "outputs": [
    {
     "name": "stderr",
     "output_type": "stream",
     "text": [
      "[2025-05-20 12:13:30,438 hyrax:INFO] Runtime Config read from: /home/drew/code/hyrax/src/hyrax/hyrax_default_config.toml\n"
     ]
    }
   ],
   "source": [
    "from hyrax import Hyrax\n",
    "\n",
    "h = Hyrax()"
   ]
  },
  {
   "cell_type": "code",
   "execution_count": 2,
   "id": "e214de6f",
   "metadata": {},
   "outputs": [
    {
     "name": "stderr",
     "output_type": "stream",
     "text": [
      "[2025-05-20 12:13:42,566 hyrax.models.model_registry:INFO] Using criterion: torch.nn.CrossEntropyLoss with default arguments.\n",
      "2025-05-20 12:13:42,836 ignite.distributed.auto.auto_dataloader INFO: Use data loader kwargs for dataset '<hyrax.data_sets.hyr': \n",
      "\t{'sampler': <hyrax.pytorch_ignite.SubsetSequentialSampler object at 0x7f513f564cb0>, 'batch_size': 512, 'shuffle': False, 'pin_memory': True}\n",
      "2025-05-20 12:13:42,837 ignite.distributed.auto.auto_dataloader INFO: Use data loader kwargs for dataset '<hyrax.data_sets.hyr': \n",
      "\t{'sampler': <hyrax.pytorch_ignite.SubsetSequentialSampler object at 0x7f513ea93740>, 'batch_size': 512, 'shuffle': False, 'pin_memory': True}\n",
      "/home/drew/miniconda3/envs/hyrax/lib/python3.12/site-packages/ignite/handlers/tqdm_logger.py:127: TqdmExperimentalWarning: Using `tqdm.autonotebook.tqdm` in notebook mode. Use `tqdm.tqdm` instead to force console mode (e.g. in jupyter console)\n",
      "  from tqdm.autonotebook import tqdm\n",
      "2025/05/20 12:13:43 INFO mlflow.system_metrics.system_metrics_monitor: Started monitoring system metrics.\n",
      "[2025-05-20 12:13:43,260 hyrax.pytorch_ignite:INFO] Training model on device: cuda\n"
     ]
    },
    {
     "data": {
      "application/vnd.jupyter.widget-view+json": {
       "model_id": "71a15190ee064854ba4ccd481895491e",
       "version_major": 2,
       "version_minor": 0
      },
      "text/plain": [
       "  2%|1         | 1/59 [00:00<?, ?it/s]"
      ]
     },
     "metadata": {},
     "output_type": "display_data"
    },
    {
     "data": {
      "application/vnd.jupyter.widget-view+json": {
       "model_id": "9c6aaea9ef9a4ccd9a7d3658d1ba13b1",
       "version_major": 2,
       "version_minor": 0
      },
      "text/plain": [
       "  2%|1         | 1/59 [00:00<?, ?it/s]"
      ]
     },
     "metadata": {},
     "output_type": "display_data"
    },
    {
     "data": {
      "application/vnd.jupyter.widget-view+json": {
       "model_id": "dbb3c0d7e69448a6b5c3d1b373dd5157",
       "version_major": 2,
       "version_minor": 0
      },
      "text/plain": [
       "  2%|1         | 1/59 [00:00<?, ?it/s]"
      ]
     },
     "metadata": {},
     "output_type": "display_data"
    },
    {
     "data": {
      "application/vnd.jupyter.widget-view+json": {
       "model_id": "db143c17030e446abf0908719750d799",
       "version_major": 2,
       "version_minor": 0
      },
      "text/plain": [
       "  2%|1         | 1/59 [00:00<?, ?it/s]"
      ]
     },
     "metadata": {},
     "output_type": "display_data"
    },
    {
     "data": {
      "application/vnd.jupyter.widget-view+json": {
       "model_id": "1dc77cbcabb04e8cafa6490829e3668e",
       "version_major": 2,
       "version_minor": 0
      },
      "text/plain": [
       "  2%|1         | 1/59 [00:00<?, ?it/s]"
      ]
     },
     "metadata": {},
     "output_type": "display_data"
    },
    {
     "data": {
      "application/vnd.jupyter.widget-view+json": {
       "model_id": "9b2036dcc30c402887f202d83a162dfa",
       "version_major": 2,
       "version_minor": 0
      },
      "text/plain": [
       "  2%|1         | 1/59 [00:00<?, ?it/s]"
      ]
     },
     "metadata": {},
     "output_type": "display_data"
    },
    {
     "data": {
      "application/vnd.jupyter.widget-view+json": {
       "model_id": "2c313299934b4673906f89322f3cb20c",
       "version_major": 2,
       "version_minor": 0
      },
      "text/plain": [
       "  2%|1         | 1/59 [00:00<?, ?it/s]"
      ]
     },
     "metadata": {},
     "output_type": "display_data"
    },
    {
     "data": {
      "application/vnd.jupyter.widget-view+json": {
       "model_id": "eeba8d3331c24b6a970666718e0ca792",
       "version_major": 2,
       "version_minor": 0
      },
      "text/plain": [
       "  2%|1         | 1/59 [00:00<?, ?it/s]"
      ]
     },
     "metadata": {},
     "output_type": "display_data"
    },
    {
     "data": {
      "application/vnd.jupyter.widget-view+json": {
       "model_id": "73f73eb95c434b65902c6ba1e4e68248",
       "version_major": 2,
       "version_minor": 0
      },
      "text/plain": [
       "  2%|1         | 1/59 [00:00<?, ?it/s]"
      ]
     },
     "metadata": {},
     "output_type": "display_data"
    },
    {
     "data": {
      "application/vnd.jupyter.widget-view+json": {
       "model_id": "44543a54f7a849068f6700f0583eda4d",
       "version_major": 2,
       "version_minor": 0
      },
      "text/plain": [
       "  2%|1         | 1/59 [00:00<?, ?it/s]"
      ]
     },
     "metadata": {},
     "output_type": "display_data"
    },
    {
     "data": {
      "application/vnd.jupyter.widget-view+json": {
       "model_id": "b482c063e7cf4e2a8f01e3f0288e03f7",
       "version_major": 2,
       "version_minor": 0
      },
      "text/plain": [
       "  2%|1         | 1/59 [00:00<?, ?it/s]"
      ]
     },
     "metadata": {},
     "output_type": "display_data"
    },
    {
     "data": {
      "application/vnd.jupyter.widget-view+json": {
       "model_id": "6c8ce04941e544339b4ccb00b896ae4c",
       "version_major": 2,
       "version_minor": 0
      },
      "text/plain": [
       "  2%|1         | 1/59 [00:00<?, ?it/s]"
      ]
     },
     "metadata": {},
     "output_type": "display_data"
    },
    {
     "data": {
      "application/vnd.jupyter.widget-view+json": {
       "model_id": "9fb6e3737f304356a212fd16b74bf2b9",
       "version_major": 2,
       "version_minor": 0
      },
      "text/plain": [
       "  2%|1         | 1/59 [00:00<?, ?it/s]"
      ]
     },
     "metadata": {},
     "output_type": "display_data"
    },
    {
     "data": {
      "application/vnd.jupyter.widget-view+json": {
       "model_id": "437c2398c327491991748cbf26fdde5d",
       "version_major": 2,
       "version_minor": 0
      },
      "text/plain": [
       "  2%|1         | 1/59 [00:00<?, ?it/s]"
      ]
     },
     "metadata": {},
     "output_type": "display_data"
    },
    {
     "data": {
      "application/vnd.jupyter.widget-view+json": {
       "model_id": "a27690d19f1440d3a53dc79999ff6d63",
       "version_major": 2,
       "version_minor": 0
      },
      "text/plain": [
       "  2%|1         | 1/59 [00:00<?, ?it/s]"
      ]
     },
     "metadata": {},
     "output_type": "display_data"
    },
    {
     "data": {
      "application/vnd.jupyter.widget-view+json": {
       "model_id": "721f7768fe814377827003930dbef042",
       "version_major": 2,
       "version_minor": 0
      },
      "text/plain": [
       "  2%|1         | 1/59 [00:00<?, ?it/s]"
      ]
     },
     "metadata": {},
     "output_type": "display_data"
    },
    {
     "data": {
      "application/vnd.jupyter.widget-view+json": {
       "model_id": "bb08d6c8e4ee4616816f4f4d5d787df6",
       "version_major": 2,
       "version_minor": 0
      },
      "text/plain": [
       "  2%|1         | 1/59 [00:00<?, ?it/s]"
      ]
     },
     "metadata": {},
     "output_type": "display_data"
    },
    {
     "data": {
      "application/vnd.jupyter.widget-view+json": {
       "model_id": "69b337b9b2f1472a90844e3551130e7e",
       "version_major": 2,
       "version_minor": 0
      },
      "text/plain": [
       "  2%|1         | 1/59 [00:00<?, ?it/s]"
      ]
     },
     "metadata": {},
     "output_type": "display_data"
    },
    {
     "data": {
      "application/vnd.jupyter.widget-view+json": {
       "model_id": "55ec042bea16448dbc8451fd56cf8c2a",
       "version_major": 2,
       "version_minor": 0
      },
      "text/plain": [
       "  2%|1         | 1/59 [00:00<?, ?it/s]"
      ]
     },
     "metadata": {},
     "output_type": "display_data"
    },
    {
     "data": {
      "application/vnd.jupyter.widget-view+json": {
       "model_id": "f9a555742890498dbc1a85c920c836eb",
       "version_major": 2,
       "version_minor": 0
      },
      "text/plain": [
       "  2%|1         | 1/59 [00:00<?, ?it/s]"
      ]
     },
     "metadata": {},
     "output_type": "display_data"
    },
    {
     "data": {
      "application/vnd.jupyter.widget-view+json": {
       "model_id": "d757d418e7c94fcda26c9caa32d2fb0c",
       "version_major": 2,
       "version_minor": 0
      },
      "text/plain": [
       "  2%|1         | 1/59 [00:00<?, ?it/s]"
      ]
     },
     "metadata": {},
     "output_type": "display_data"
    },
    {
     "data": {
      "application/vnd.jupyter.widget-view+json": {
       "model_id": "f0a8d7ed30384a07a0b455ff3d07d87f",
       "version_major": 2,
       "version_minor": 0
      },
      "text/plain": [
       "  2%|1         | 1/59 [00:00<?, ?it/s]"
      ]
     },
     "metadata": {},
     "output_type": "display_data"
    },
    {
     "data": {
      "application/vnd.jupyter.widget-view+json": {
       "model_id": "88d4c25d06874fa8b347855de4cdbf0e",
       "version_major": 2,
       "version_minor": 0
      },
      "text/plain": [
       "  2%|1         | 1/59 [00:00<?, ?it/s]"
      ]
     },
     "metadata": {},
     "output_type": "display_data"
    },
    {
     "data": {
      "application/vnd.jupyter.widget-view+json": {
       "model_id": "555908069121498f94872824874aae26",
       "version_major": 2,
       "version_minor": 0
      },
      "text/plain": [
       "  2%|1         | 1/59 [00:00<?, ?it/s]"
      ]
     },
     "metadata": {},
     "output_type": "display_data"
    },
    {
     "data": {
      "application/vnd.jupyter.widget-view+json": {
       "model_id": "4d3b882d1e6e45ad8459e922c0020322",
       "version_major": 2,
       "version_minor": 0
      },
      "text/plain": [
       "  2%|1         | 1/59 [00:00<?, ?it/s]"
      ]
     },
     "metadata": {},
     "output_type": "display_data"
    },
    {
     "data": {
      "application/vnd.jupyter.widget-view+json": {
       "model_id": "c1fc9ff22e1844418e57655d107b3a9d",
       "version_major": 2,
       "version_minor": 0
      },
      "text/plain": [
       "  2%|1         | 1/59 [00:00<?, ?it/s]"
      ]
     },
     "metadata": {},
     "output_type": "display_data"
    },
    {
     "data": {
      "application/vnd.jupyter.widget-view+json": {
       "model_id": "a55c62307a7a4f43aa1ef363840249f1",
       "version_major": 2,
       "version_minor": 0
      },
      "text/plain": [
       "  2%|1         | 1/59 [00:00<?, ?it/s]"
      ]
     },
     "metadata": {},
     "output_type": "display_data"
    },
    {
     "data": {
      "application/vnd.jupyter.widget-view+json": {
       "model_id": "68bcde48e5d54b88a1899cb36056e5ae",
       "version_major": 2,
       "version_minor": 0
      },
      "text/plain": [
       "  2%|1         | 1/59 [00:00<?, ?it/s]"
      ]
     },
     "metadata": {},
     "output_type": "display_data"
    },
    {
     "data": {
      "application/vnd.jupyter.widget-view+json": {
       "model_id": "ca4813296832442eae8f8efc653bc26f",
       "version_major": 2,
       "version_minor": 0
      },
      "text/plain": [
       "  2%|1         | 1/59 [00:00<?, ?it/s]"
      ]
     },
     "metadata": {},
     "output_type": "display_data"
    },
    {
     "data": {
      "application/vnd.jupyter.widget-view+json": {
       "model_id": "58c2c0f963904f178006a571158b74fe",
       "version_major": 2,
       "version_minor": 0
      },
      "text/plain": [
       "  2%|1         | 1/59 [00:00<?, ?it/s]"
      ]
     },
     "metadata": {},
     "output_type": "display_data"
    },
    {
     "data": {
      "application/vnd.jupyter.widget-view+json": {
       "model_id": "9f2a18f527c7431dab7167ba9dedc927",
       "version_major": 2,
       "version_minor": 0
      },
      "text/plain": [
       "  2%|1         | 1/59 [00:00<?, ?it/s]"
      ]
     },
     "metadata": {},
     "output_type": "display_data"
    },
    {
     "data": {
      "application/vnd.jupyter.widget-view+json": {
       "model_id": "cd10c4b78e4846f4be45c3225f895449",
       "version_major": 2,
       "version_minor": 0
      },
      "text/plain": [
       "  2%|1         | 1/59 [00:00<?, ?it/s]"
      ]
     },
     "metadata": {},
     "output_type": "display_data"
    },
    {
     "data": {
      "application/vnd.jupyter.widget-view+json": {
       "model_id": "67af84ca01e147859a4468d9784eb7e9",
       "version_major": 2,
       "version_minor": 0
      },
      "text/plain": [
       "  2%|1         | 1/59 [00:00<?, ?it/s]"
      ]
     },
     "metadata": {},
     "output_type": "display_data"
    },
    {
     "data": {
      "application/vnd.jupyter.widget-view+json": {
       "model_id": "312b62aee50641278e7c5e3469aefefd",
       "version_major": 2,
       "version_minor": 0
      },
      "text/plain": [
       "  2%|1         | 1/59 [00:00<?, ?it/s]"
      ]
     },
     "metadata": {},
     "output_type": "display_data"
    },
    {
     "data": {
      "application/vnd.jupyter.widget-view+json": {
       "model_id": "607a4c2ab2674c35ad2c3eeec8102846",
       "version_major": 2,
       "version_minor": 0
      },
      "text/plain": [
       "  2%|1         | 1/59 [00:00<?, ?it/s]"
      ]
     },
     "metadata": {},
     "output_type": "display_data"
    },
    {
     "data": {
      "application/vnd.jupyter.widget-view+json": {
       "model_id": "24519018d3ea4f3393734484dc090caa",
       "version_major": 2,
       "version_minor": 0
      },
      "text/plain": [
       "  2%|1         | 1/59 [00:00<?, ?it/s]"
      ]
     },
     "metadata": {},
     "output_type": "display_data"
    },
    {
     "data": {
      "application/vnd.jupyter.widget-view+json": {
       "model_id": "f8e95819999241319b25033ecac96131",
       "version_major": 2,
       "version_minor": 0
      },
      "text/plain": [
       "  2%|1         | 1/59 [00:00<?, ?it/s]"
      ]
     },
     "metadata": {},
     "output_type": "display_data"
    },
    {
     "data": {
      "application/vnd.jupyter.widget-view+json": {
       "model_id": "c6b71e70e8944bce85753663151ebff7",
       "version_major": 2,
       "version_minor": 0
      },
      "text/plain": [
       "  2%|1         | 1/59 [00:00<?, ?it/s]"
      ]
     },
     "metadata": {},
     "output_type": "display_data"
    },
    {
     "data": {
      "application/vnd.jupyter.widget-view+json": {
       "model_id": "08177120b61a4117839e1a106217a63a",
       "version_major": 2,
       "version_minor": 0
      },
      "text/plain": [
       "  2%|1         | 1/59 [00:00<?, ?it/s]"
      ]
     },
     "metadata": {},
     "output_type": "display_data"
    },
    {
     "data": {
      "application/vnd.jupyter.widget-view+json": {
       "model_id": "67f021029a8c40b68d583aa28702f5bd",
       "version_major": 2,
       "version_minor": 0
      },
      "text/plain": [
       "  2%|1         | 1/59 [00:00<?, ?it/s]"
      ]
     },
     "metadata": {},
     "output_type": "display_data"
    },
    {
     "data": {
      "application/vnd.jupyter.widget-view+json": {
       "model_id": "ad7db3f7eb784d97932c483c5b9f490b",
       "version_major": 2,
       "version_minor": 0
      },
      "text/plain": [
       "  2%|1         | 1/59 [00:00<?, ?it/s]"
      ]
     },
     "metadata": {},
     "output_type": "display_data"
    },
    {
     "data": {
      "application/vnd.jupyter.widget-view+json": {
       "model_id": "3f3eb1840b0942caa9c21106bcb0458d",
       "version_major": 2,
       "version_minor": 0
      },
      "text/plain": [
       "  2%|1         | 1/59 [00:00<?, ?it/s]"
      ]
     },
     "metadata": {},
     "output_type": "display_data"
    },
    {
     "data": {
      "application/vnd.jupyter.widget-view+json": {
       "model_id": "0437e056471143de9051cc2edcee4e5c",
       "version_major": 2,
       "version_minor": 0
      },
      "text/plain": [
       "  2%|1         | 1/59 [00:00<?, ?it/s]"
      ]
     },
     "metadata": {},
     "output_type": "display_data"
    },
    {
     "data": {
      "application/vnd.jupyter.widget-view+json": {
       "model_id": "8906565ef917471e9e0a39735960b3cb",
       "version_major": 2,
       "version_minor": 0
      },
      "text/plain": [
       "  2%|1         | 1/59 [00:00<?, ?it/s]"
      ]
     },
     "metadata": {},
     "output_type": "display_data"
    },
    {
     "data": {
      "application/vnd.jupyter.widget-view+json": {
       "model_id": "69d3e6f4fd0f4909ad7272bfc4407548",
       "version_major": 2,
       "version_minor": 0
      },
      "text/plain": [
       "  2%|1         | 1/59 [00:00<?, ?it/s]"
      ]
     },
     "metadata": {},
     "output_type": "display_data"
    },
    {
     "data": {
      "application/vnd.jupyter.widget-view+json": {
       "model_id": "effdceb1d9f04b4dbc01490a14cf9d7a",
       "version_major": 2,
       "version_minor": 0
      },
      "text/plain": [
       "  2%|1         | 1/59 [00:00<?, ?it/s]"
      ]
     },
     "metadata": {},
     "output_type": "display_data"
    },
    {
     "data": {
      "application/vnd.jupyter.widget-view+json": {
       "model_id": "8cd4fbc978a444d9874e356f8ef7faac",
       "version_major": 2,
       "version_minor": 0
      },
      "text/plain": [
       "  2%|1         | 1/59 [00:00<?, ?it/s]"
      ]
     },
     "metadata": {},
     "output_type": "display_data"
    },
    {
     "data": {
      "application/vnd.jupyter.widget-view+json": {
       "model_id": "2ac3d31c774d480e84d8e5ebcfeb876f",
       "version_major": 2,
       "version_minor": 0
      },
      "text/plain": [
       "  2%|1         | 1/59 [00:00<?, ?it/s]"
      ]
     },
     "metadata": {},
     "output_type": "display_data"
    },
    {
     "data": {
      "application/vnd.jupyter.widget-view+json": {
       "model_id": "7f5be65c224340c3bfd4fcfb4a2bebee",
       "version_major": 2,
       "version_minor": 0
      },
      "text/plain": [
       "  2%|1         | 1/59 [00:00<?, ?it/s]"
      ]
     },
     "metadata": {},
     "output_type": "display_data"
    },
    {
     "data": {
      "application/vnd.jupyter.widget-view+json": {
       "model_id": "f97a22b362134688bed2913760b60ad6",
       "version_major": 2,
       "version_minor": 0
      },
      "text/plain": [
       "  2%|1         | 1/59 [00:00<?, ?it/s]"
      ]
     },
     "metadata": {},
     "output_type": "display_data"
    },
    {
     "name": "stderr",
     "output_type": "stream",
     "text": [
      "[2025-05-20 12:21:34,259 hyrax.pytorch_ignite:INFO] Total training time: 471.00[s]\n",
      "[2025-05-20 12:21:34,260 hyrax.pytorch_ignite:INFO] Latest checkpoint saved as: /home/drew/code/hyrax/docs/pre_executed/results/20250520-121334-train-ETSe/checkpoint_epoch_50.pt\n",
      "[2025-05-20 12:21:34,261 hyrax.pytorch_ignite:INFO] Best metric checkpoint saved as: /home/drew/code/hyrax/docs/pre_executed/results/20250520-121334-train-ETSe/checkpoint_50_loss=-88.8590.pt\n",
      "2025/05/20 12:21:34 INFO mlflow.system_metrics.system_metrics_monitor: Stopping system metrics monitoring...\n",
      "2025/05/20 12:21:34 INFO mlflow.system_metrics.system_metrics_monitor: Successfully terminated system metrics monitoring!\n",
      "[2025-05-20 12:21:34,275 hyrax.train:INFO] Finished Training\n",
      "[2025-05-20 12:21:34,563 hyrax.model_exporters:INFO] Exported model to ONNX format: /home/drew/code/hyrax/docs/pre_executed/results/20250520-121334-train-ETSe/example_model_opset_20.onnx\n",
      "[2025-05-20 12:21:42,764 hyrax.models.model_registry:INFO] Using criterion: torch.nn.CrossEntropyLoss with default arguments.\n",
      "[2025-05-20 12:21:42,765 hyrax.verbs.infer:INFO] data set has length 50000\n",
      "2025-05-20 12:21:42,766 ignite.distributed.auto.auto_dataloader INFO: Use data loader kwargs for dataset '<hyrax.data_sets.hyr': \n",
      "\t{'sampler': None, 'batch_size': 512, 'shuffle': False, 'pin_memory': True}\n",
      "[2025-05-20 12:21:42,786 hyrax.verbs.infer:INFO] Saving inference results at: /home/drew/code/hyrax/docs/pre_executed/results/20250520-122134-infer-OpIj\n",
      "[2025-05-20 12:21:42,998 hyrax.pytorch_ignite:INFO] Evaluating model on device: cuda\n",
      "[2025-05-20 12:21:43,000 hyrax.pytorch_ignite:INFO] Total epochs: 1\n"
     ]
    },
    {
     "data": {
      "application/vnd.jupyter.widget-view+json": {
       "model_id": "d2ac64c94ed742eb94bb6c504e3d283b",
       "version_major": 2,
       "version_minor": 0
      },
      "text/plain": [
       "  1%|1         | 1/98 [00:00<?, ?it/s]"
      ]
     },
     "metadata": {},
     "output_type": "display_data"
    },
    {
     "name": "stderr",
     "output_type": "stream",
     "text": [
      "[2025-05-20 12:21:54,057 hyrax.pytorch_ignite:INFO] Total evaluation time: 11.06[s]\n",
      "[2025-05-20 12:21:54,131 hyrax.verbs.infer:INFO] Inference Complete.\n",
      "[2025-05-20 12:21:54,383 hyrax.config_utils:WARNING] Cannot find default_config.toml for torch.\n",
      "[2025-05-20 12:21:54,384 hyrax.config_utils:WARNING] Cannot find default_config.toml for torch.\n",
      "[2025-05-20 12:21:57,851 hyrax.config_utils:WARNING] Cannot find default_config.toml for umap.\n"
     ]
    },
    {
     "data": {
      "text/plain": [
       "<hyrax.data_sets.inference_dataset.InferenceDataSet at 0x7f513c509670>"
      ]
     },
     "execution_count": 2,
     "metadata": {},
     "output_type": "execute_result"
    }
   ],
   "source": [
    "h.config[\"train\"][\"epochs\"] = 50\n",
    "h.train()\n",
    "h.infer()"
   ]
  },
  {
   "cell_type": "markdown",
   "id": "0f2da27c",
   "metadata": {},
   "source": [
    "Now we'll use the output of inference to populate a ChromaDB vector database. By default `h.save_to_database()` will find the most recent output from `h.infer()` to use as the inputs when filling the database, but the user can specify a different dataset. Likewise, the default behavior is to create a new directory to store the vector database, but this can also be specified.\n",
    "\n",
    "`h.save_to_database([input_dir=\"/path/to/input\",] [output_dir=\"/path/to/output\"])`\n",
    "\n",
    "Note: If the goal is to add more data to an existing database, provide the existing database directory as the `output_dir` when calling `h.save_to_database`."
   ]
  },
  {
   "cell_type": "code",
   "execution_count": 3,
   "id": "6b8e25f1",
   "metadata": {},
   "outputs": [
    {
     "name": "stdout",
     "output_type": "stream",
     "text": [
      "Filling a chromadb database with the results of inference.\n"
     ]
    },
    {
     "name": "stderr",
     "output_type": "stream",
     "text": [
      "[2025-05-20 12:22:06,574 hyrax.config_utils:WARNING] Cannot find default_config.toml for torch.\n",
      "[2025-05-20 12:22:06,575 hyrax.config_utils:WARNING] Cannot find default_config.toml for torch.\n",
      "[2025-05-20 12:22:06,576 hyrax.config_utils:WARNING] Cannot find default_config.toml for umap.\n",
      "[2025-05-20 12:22:14,750 hyrax.verbs.save_to_database:INFO] Number of inference result batches to index: 98.\n",
      "100%|██████████| 98/98 [00:11<00:00,  8.81it/s]\n"
     ]
    }
   ],
   "source": [
    "print(f\"Filling a {h.config['vector_db']['name']} database with the results of inference.\")\n",
    "h.save_to_database()"
   ]
  },
  {
   "cell_type": "markdown",
   "id": "fe58a5ef",
   "metadata": {},
   "source": [
    "Now that the vector database has been populated, it can be used for similarity search and nearest neighbors. First we'll need to establish a connection using `h.database_connection()`.\n",
    "\n",
    "With the connection established, we have access to three types of queries:\n",
    "* `get_by_id` to retrieve the vector associated with a particular id\n",
    "* `search_by_id` to retrieve the _k_ nearest neighbors to a particular id\n",
    "* `search_by_vector` to retrieve the _k_ nearest neighbors to a particular input vector"
   ]
  },
  {
   "cell_type": "code",
   "execution_count": 4,
   "id": "6d22029f",
   "metadata": {},
   "outputs": [],
   "source": [
    "conn = h.database_connection()"
   ]
  },
  {
   "cell_type": "markdown",
   "id": "0a1934c7",
   "metadata": {},
   "source": [
    "### `get_by_id`\n",
    "\n",
    "With `get_by_id` we can retrieve the vectors associated with some ids. The result is a dictionary where the keys are id strings and values are the numpy array vectors stored in the vector database."
   ]
  },
  {
   "cell_type": "code",
   "execution_count": 24,
   "id": "9f61c605",
   "metadata": {},
   "outputs": [
    {
     "name": "stdout",
     "output_type": "stream",
     "text": [
      "Id: 334, Vector: [-3.24798942  1.98119485  1.55406356 -0.62645012  3.10358572 -3.61395788\n",
      " -2.6421597  -0.61600274 -1.84572554  0.82733208  0.89585263 -0.05108402\n",
      "  0.78944761 -1.05129087 -1.2733053  -0.88881552 -1.13432014  1.90325677\n",
      " -2.20901775 -1.75057256  1.72877145  0.63546658  0.50094151 -1.30287147\n",
      "  0.20819613  1.92933834 -0.10779276  2.74875712 -1.38990939  0.99484938\n",
      " -3.42075944  2.14404345 -3.83847785  5.28903532 -0.82823217  1.65449035\n",
      " -0.04479901 -0.74067652 -1.49031544  3.332618   -0.42576975  0.82981318\n",
      " -4.09225798 -1.0847671  -0.29326448 -2.29713273 -0.0332582  -0.17452615\n",
      "  0.31300914 -0.21796861 -2.86028075  2.05296707 -0.82099587  0.09970309\n",
      "  1.45865738 -2.23555088 -0.17257968  2.91896725 -1.94137704 -0.20339584\n",
      " -2.15755415  1.02150869 -0.65463024  2.33411288]\n",
      "Id: 19022, Vector: [-2.33262563  0.04649137  3.31983447  0.50175482  1.54706371 -2.84869981\n",
      " -0.27642718 -0.30221859 -1.88166511  1.20784402  0.14550534 -0.6565448\n",
      "  1.47187555 -0.3599979  -0.53884566 -0.10859923  0.27937558  1.82549071\n",
      " -0.60621667 -2.43768144  1.11523855  0.64238709 -0.73361105 -1.06656742\n",
      " -0.18609504 -0.37470672 -0.17663226  2.28438187 -1.90835869  2.27438331\n",
      " -1.47124481  2.12520504 -3.83304524  3.5974195  -1.34257436  0.05598652\n",
      "  0.73499131  0.14249866 -1.02003539  3.26024556  0.73118341  0.62491828\n",
      " -3.26831579 -1.6454109  -0.65517992 -1.52420259  0.52505571  0.08770087\n",
      "  0.39371127 -0.10824432 -3.22489595  3.86399245 -1.10378337 -0.7202642\n",
      "  1.86410856 -1.28097677 -0.20346631  1.94834697 -1.50692284 -0.0404964\n",
      " -1.73626339  0.24650386  0.85735005  2.3722589 ]\n"
     ]
    }
   ],
   "source": [
    "results = conn.get_by_id(ids=[\"334\", \"19022\"])\n",
    "\n",
    "for k, v in results.items():\n",
    "    print(f\"Id: {k}, Vector: {v}\")"
   ]
  },
  {
   "cell_type": "markdown",
   "id": "14cff8dc",
   "metadata": {},
   "source": [
    "### `search_by_id`\n",
    "\n",
    "Now we'll search for nearest neighbors. First we search for the _k_ nearest neighbors of using an id from the database. Note that the closest of the 5 neighbors is the vector itself, since it's in the database. The returned dictionary contains the ids of the nearest neighbors in order of increasing distance."
   ]
  },
  {
   "cell_type": "code",
   "execution_count": 25,
   "id": "b7d4b69e",
   "metadata": {},
   "outputs": [
    {
     "data": {
      "text/plain": [
       "{'19022': ['19022', '29955', '30105', '43441', '431']}"
      ]
     },
     "execution_count": 25,
     "metadata": {},
     "output_type": "execute_result"
    }
   ],
   "source": [
    "conn.search_by_id(\"19022\", k=5)"
   ]
  },
  {
   "cell_type": "markdown",
   "id": "8079aa88",
   "metadata": {},
   "source": [
    "### `search_by_vector`\n",
    "\n",
    "We can repeat the search this time using the vector that we found when running `get_by_id`. The results from this search should match the previous results from `search_by_id`. Again, the returned dictionary contains the ids of the nearest neighbors in order of increasing distance.\n",
    "\n",
    "Note that the input vector to `search_by_vector` is a list of vectors. Also the input vectors don't need to be vectors extracted from the database. For example - if a new piece of data was run through `infer`, the resulting vector could be passed as input to `search_by_vector` to find similar data. This is why the keys of the returned dictionary are integers, they are the indexes of the input vectors."
   ]
  },
  {
   "cell_type": "code",
   "execution_count": 26,
   "id": "81088de0",
   "metadata": {},
   "outputs": [
    {
     "data": {
      "text/plain": [
       "{0: ['19022', '29955', '30105', '43441', '431']}"
      ]
     },
     "execution_count": 26,
     "metadata": {},
     "output_type": "execute_result"
    }
   ],
   "source": [
    "neighbors = conn.search_by_vector([results[\"19022\"]], k=5)\n",
    "neighbors"
   ]
  },
  {
   "cell_type": "markdown",
   "id": "3a32ea79",
   "metadata": {},
   "source": [
    "We have now successfully queried our vector database. Let's take a look at the nearest neighbors that were found for the example image. First we'll get an interactive copy of the original dataset, and write a couple of helpful plotting functions so that we can plot the original images."
   ]
  },
  {
   "cell_type": "code",
   "execution_count": 27,
   "id": "32946b37",
   "metadata": {},
   "outputs": [
    {
     "name": "stderr",
     "output_type": "stream",
     "text": [
      "[2025-05-20 12:29:02,797 hyrax.prepare:INFO] Finished Prepare\n"
     ]
    }
   ],
   "source": [
    "dataset = h.prepare()"
   ]
  },
  {
   "cell_type": "markdown",
   "id": "44c22fce",
   "metadata": {},
   "source": [
    "The following is some boilerplate code for displaying either a single image or a collection of images from `dataset`."
   ]
  },
  {
   "cell_type": "code",
   "execution_count": 28,
   "id": "2d245a5f",
   "metadata": {},
   "outputs": [],
   "source": [
    "import numpy as np\n",
    "from matplotlib import pyplot as plt\n",
    "\n",
    "\n",
    "def show_image(data):\n",
    "    image = data[\"image\"]\n",
    "    title = f\"Label: {data['label']}, Id: {data['object_id']}\"\n",
    "    image = image.permute(1, 2, 0).numpy()\n",
    "    min_val = np.min(image)\n",
    "    max_val = np.max(image)\n",
    "    image = (image - min_val) / (max_val - min_val)\n",
    "    plt.imshow(image)\n",
    "    if title:\n",
    "        plt.title(title)\n",
    "    plt.axis(\"off\")\n",
    "    plt.show()\n",
    "\n",
    "\n",
    "def show_image_grid(data_list):\n",
    "    \"\"\"\n",
    "    Display a grid of images.\n",
    "\n",
    "    Parameters\n",
    "    ----------\n",
    "    data_list : list\n",
    "        A list of data dictionaries, each containing an 'image' key and optionally 'label' and 'object_id'.\n",
    "    \"\"\"\n",
    "    rows = int(len(data_list) / 4)\n",
    "    if len(data_list) % 4 != 0:\n",
    "        rows += 1\n",
    "    cols = 4\n",
    "    if rows == 1:\n",
    "        cols = len(data_list)\n",
    "    fig, axes = plt.subplots(rows, cols, figsize=(cols * 3, rows * 3))\n",
    "    axes = axes.flatten()  # Flatten the axes for easy iteration\n",
    "\n",
    "    for ax, data in zip(axes, data_list):\n",
    "        image = data[\"image\"]\n",
    "        title = f\"Label: {data.get('label', 'N/A')}, Id: {data.get('object_id', 'N/A')}\"\n",
    "        image = image.permute(1, 2, 0).numpy()\n",
    "        min_val = np.min(image)\n",
    "        max_val = np.max(image)\n",
    "        image = (image - min_val) / (max_val - min_val)  # Normalize to [0, 1]\n",
    "        ax.imshow(image)\n",
    "        ax.set_title(title)\n",
    "        ax.axis(\"off\")\n",
    "\n",
    "    # Turn off any unused axes\n",
    "    for ax in axes[len(data_list) :]:\n",
    "        ax.axis(\"off\")\n",
    "\n",
    "    plt.tight_layout()\n",
    "    plt.show()"
   ]
  },
  {
   "cell_type": "markdown",
   "id": "482e3355",
   "metadata": {},
   "source": [
    "First we'll display the image that we used for searching."
   ]
  },
  {
   "cell_type": "code",
   "execution_count": 29,
   "id": "bd6f001f",
   "metadata": {},
   "outputs": [
    {
     "data": {
      "image/png": "[encoded data removed]",
      "text/plain": [
       "<Figure size 640x480 with 1 Axes>"
      ]
     },
     "metadata": {},
     "output_type": "display_data"
    }
   ],
   "source": [
    "show_image(dataset[19022])"
   ]
  },
  {
   "cell_type": "markdown",
   "id": "64aa055b",
   "metadata": {},
   "source": [
    "Next we'll display the 4 nearest neighbors. We'll exclude the absolute nearest neighbor, because in our case, that is the original search image. It seems that the model is doing something vaguely reasonable since 3 of 4 nearest neighbors appear to be similar types of dogs as the original search image. Though, clearly, there is room for model improvement."
   ]
  },
  {
   "cell_type": "code",
   "execution_count": 30,
   "id": "8ac4f559",
   "metadata": {},
   "outputs": [
    {
     "data": {
      "image/png": "[encoded data removed]",
      "text/plain": [
       "<Figure size 1200x300 with 4 Axes>"
      ]
     },
     "metadata": {},
     "output_type": "display_data"
    }
   ],
   "source": [
    "data_list = [dataset[int(n)] for n in neighbors[0][1:]]\n",
    "show_image_grid(data_list)"
   ]
  }
 ],
 "metadata": {
  "kernelspec": {
   "display_name": "hyrax",
   "language": "python",
   "name": "python3"
  },
  "language_info": {
   "codemirror_mode": {
    "name": "ipython",
    "version": 3
   },
   "file_extension": ".py",
   "mimetype": "text/x-python",
   "name": "python",
   "nbconvert_exporter": "python",
   "pygments_lexer": "ipython3",
   "version": "3.12.10"
  },
  "nbsphinx": {
   "orphan": true
  }
 },
 "nbformat": 4,
 "nbformat_minor": 5
}
