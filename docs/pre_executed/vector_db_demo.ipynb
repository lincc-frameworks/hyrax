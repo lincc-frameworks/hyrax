{
 "cells": [
  {
   "cell_type": "code",
   "execution_count": 1,
   "id": "44b00d84",
   "metadata": {},
   "outputs": [
    {
     "name": "stderr",
     "output_type": "stream",
     "text": [
      "[2025-04-21 21:05:18,058 hyrax:INFO] Runtime Config read from: /home/drew/code/hyrax/src/hyrax/hyrax_default_config.toml\n"
     ]
    }
   ],
   "source": [
    "from hyrax import Hyrax\n",
    "\n",
    "h = Hyrax()"
   ]
  },
  {
   "cell_type": "markdown",
   "id": "ebd2eaa8",
   "metadata": {},
   "source": [
    "Quickly train a model using the default CiFAR dataset and then use the model to run inference."
   ]
  },
  {
   "cell_type": "code",
   "execution_count": 2,
   "id": "e214de6f",
   "metadata": {},
   "outputs": [
    {
     "name": "stderr",
     "output_type": "stream",
     "text": [
      "[2025-04-21 21:05:25,772 hyrax.models.model_registry:INFO] Using criterion: torch.nn.CrossEntropyLoss with default arguments.\n",
      "2025-04-21 21:05:26,049 ignite.distributed.auto.auto_dataloader INFO: Use data loader kwargs for dataset 'Dataset HyraxCifarDa': \n",
      "\t{'sampler': <hyrax.pytorch_ignite.SubsetSequentialSampler object at 0x7fef746e7d10>, 'batch_size': 512, 'shuffle': False, 'pin_memory': True}\n",
      "2025-04-21 21:05:26,051 ignite.distributed.auto.auto_dataloader INFO: Use data loader kwargs for dataset 'Dataset HyraxCifarDa': \n",
      "\t{'sampler': <hyrax.pytorch_ignite.SubsetSequentialSampler object at 0x7fef746e7d70>, 'batch_size': 512, 'shuffle': False, 'pin_memory': True}\n",
      "/home/drew/miniconda3/envs/hyrax/lib/python3.12/site-packages/ignite/handlers/tqdm_logger.py:127: TqdmExperimentalWarning: Using `tqdm.autonotebook.tqdm` in notebook mode. Use `tqdm.tqdm` instead to force console mode (e.g. in jupyter console)\n",
      "  from tqdm.autonotebook import tqdm\n",
      "2025/04/21 21:05:26 INFO mlflow.system_metrics.system_metrics_monitor: Started monitoring system metrics.\n",
      "[2025-04-21 21:05:26,468 hyrax.pytorch_ignite:INFO] Training model on device: cuda\n"
     ]
    },
    {
     "data": {
      "application/vnd.jupyter.widget-view+json": {
       "model_id": "e0a3c227da43402898eba4c1e98e785d",
       "version_major": 2,
       "version_minor": 0
      },
      "text/plain": [
       "  2%|1         | 1/59 [00:00<?, ?it/s]"
      ]
     },
     "metadata": {},
     "output_type": "display_data"
    },
    {
     "name": "stdout",
     "output_type": "stream",
     "text": [
      "State:\n",
      "\titeration: 59\n",
      "\tepoch: 1\n",
      "\tepoch_length: 59\n",
      "\tmax_epochs: 1\n",
      "\toutput: <class 'dict'>\n",
      "\tbatch: <class 'list'>\n",
      "\tmetrics: <class 'dict'>\n",
      "\tdataloader: <class 'torch.utils.data.dataloader.DataLoader'>\n",
      "\tseed: <class 'NoneType'>\n",
      "\ttimes: <class 'dict'>\n",
      "\n"
     ]
    },
    {
     "name": "stderr",
     "output_type": "stream",
     "text": [
      "[2025-04-21 21:05:35,201 hyrax.pytorch_ignite:INFO] Total training time: 8.73[s]\n",
      "[2025-04-21 21:05:35,202 hyrax.pytorch_ignite:INFO] Latest checkpoint saved as: /home/drew/code/hyrax/docs/pre_executed/results/20250421-210518-train-Z8B5/checkpoint_epoch_1.pt\n",
      "[2025-04-21 21:05:35,203 hyrax.pytorch_ignite:INFO] Best metric checkpoint saved as: /home/drew/code/hyrax/docs/pre_executed/results/20250421-210518-train-Z8B5/checkpoint_1_loss=-349.7285.pt\n",
      "2025/04/21 21:05:35 INFO mlflow.system_metrics.system_metrics_monitor: Stopping system metrics monitoring...\n",
      "2025/04/21 21:05:35 INFO mlflow.system_metrics.system_metrics_monitor: Successfully terminated system metrics monitoring!\n",
      "[2025-04-21 21:05:35,217 hyrax.train:INFO] Finished Training\n",
      "[2025-04-21 21:05:35,569 hyrax.model_exporters:INFO] Exported model to ONNX format: /home/drew/code/hyrax/docs/pre_executed/results/20250421-210518-train-Z8B5/example_model_opset_20.onnx\n",
      "[2025-04-21 21:05:43,388 hyrax.models.model_registry:INFO] Using criterion: torch.nn.CrossEntropyLoss with default arguments.\n",
      "[2025-04-21 21:05:43,388 hyrax.verbs.infer:INFO] data set has length 50000\n",
      "2025-04-21 21:05:43,390 ignite.distributed.auto.auto_dataloader INFO: Use data loader kwargs for dataset 'Dataset HyraxCifarDa': \n",
      "\t{'sampler': None, 'batch_size': 512, 'shuffle': False, 'pin_memory': True}\n",
      "[2025-04-21 21:05:43,407 hyrax.verbs.infer:INFO] Saving inference results at: /home/drew/code/hyrax/docs/pre_executed/results/20250421-210535-infer-WvhJ\n",
      "[2025-04-21 21:05:43,650 hyrax.pytorch_ignite:INFO] Evaluating model on device: cuda\n",
      "[2025-04-21 21:05:43,652 hyrax.pytorch_ignite:INFO] Total epochs: 1\n"
     ]
    },
    {
     "data": {
      "application/vnd.jupyter.widget-view+json": {
       "model_id": "b105e47423ff488b92a2c566b670f5b3",
       "version_major": 2,
       "version_minor": 0
      },
      "text/plain": [
       "  1%|1         | 1/98 [00:00<?, ?it/s]"
      ]
     },
     "metadata": {},
     "output_type": "display_data"
    },
    {
     "name": "stderr",
     "output_type": "stream",
     "text": [
      "[2025-04-21 21:05:53,944 hyrax.pytorch_ignite:INFO] Total evaluation time: 10.29[s]\n",
      "[2025-04-21 21:05:54,012 hyrax.verbs.infer:INFO] Inference Complete.\n",
      "[2025-04-21 21:05:54,296 hyrax.config_utils:WARNING] Cannot find default_config.toml for torch.\n",
      "[2025-04-21 21:05:54,297 hyrax.config_utils:WARNING] Cannot find default_config.toml for torch.\n",
      "[2025-04-21 21:05:57,277 hyrax.config_utils:WARNING] Cannot find default_config.toml for umap.\n"
     ]
    },
    {
     "data": {
      "text/plain": [
       "<hyrax.data_sets.inference_dataset.InferenceDataSet at 0x7fef723e6e70>"
      ]
     },
     "execution_count": 2,
     "metadata": {},
     "output_type": "execute_result"
    }
   ],
   "source": [
    "h.config[\"train\"][\"epochs\"] = 1\n",
    "h.train()\n",
    "h.infer()"
   ]
  },
  {
   "cell_type": "markdown",
   "id": "0f2da27c",
   "metadata": {},
   "source": [
    "Use the output of inference to populate a ChromaDB vector database."
   ]
  },
  {
   "cell_type": "code",
   "execution_count": 3,
   "id": "6b8e25f1",
   "metadata": {},
   "outputs": [
    {
     "name": "stderr",
     "output_type": "stream",
     "text": [
      "[2025-04-21 21:06:05,033 hyrax.config_utils:WARNING] Cannot find default_config.toml for torch.\n",
      "[2025-04-21 21:06:05,034 hyrax.config_utils:WARNING] Cannot find default_config.toml for torch.\n",
      "[2025-04-21 21:06:05,034 hyrax.config_utils:WARNING] Cannot find default_config.toml for umap.\n",
      "[2025-04-21 21:06:12,843 hyrax.verbs.vdb_index:INFO] Number of inference result batches to index: 98.\n",
      "100%|██████████| 98/98 [00:09<00:00, 10.68it/s]\n"
     ]
    }
   ],
   "source": [
    "h.index()"
   ]
  },
  {
   "cell_type": "markdown",
   "id": "fe58a5ef",
   "metadata": {},
   "source": [
    "Some examples of simple database operations. Here we get the directory that contains the vector database that was just populated and create an instance of the ChromaDB object for querying."
   ]
  },
  {
   "cell_type": "code",
   "execution_count": null,
   "id": "9a7627c8",
   "metadata": {},
   "outputs": [],
   "source": [
    "from hyrax.vector_dbs import ChromaDB\n",
    "from hyrax.config_utils import find_most_recent_results_dir\n",
    "\n",
    "context = {\"results_dir\": find_most_recent_results_dir(h.config, \"index\")}\n",
    "cdb = ChromaDB({}, context)"
   ]
  },
  {
   "cell_type": "markdown",
   "id": "0a1934c7",
   "metadata": {},
   "source": [
    "Next we'll retrieve the vectors associated with two ids. The result is a dictionary where the keys are id strings and values are the numpy array vectors stored in the vector database."
   ]
  },
  {
   "cell_type": "code",
   "execution_count": 21,
   "id": "9f61c605",
   "metadata": {},
   "outputs": [
    {
     "name": "stdout",
     "output_type": "stream",
     "text": [
      "Id: 334, Vector: [-0.97002649  1.38855457 -0.25365093  1.69827247  0.30844495 -0.12353173\n",
      " -2.88466191 -2.90000081 -4.31662893 -2.28196621  0.9391892  -2.26396465\n",
      "  0.85602278  2.23173761 -0.24233057  0.02056995  1.27067137  0.02066563\n",
      "  3.0384562   2.72503877 -2.39113975 -0.69743693  1.5756855   2.77459621\n",
      "  0.77587169 -1.50103259 -0.59780228  1.90591443  2.80806208 -0.05698622\n",
      " -0.1125446   0.69265711 -0.23092759  2.14646101  0.07940467  2.89812326\n",
      "  1.65633786  1.97285414  0.87678236 -2.04588151  0.3986209  -0.8836394\n",
      " -2.12579894  1.34612143 -0.48207313  0.4251518  -0.10547816 -3.16599846\n",
      " -2.07017779  2.21695733 -0.90912127 -1.21102476  0.57595026 -1.40068698\n",
      "  3.16039634  1.31321025  2.21002913 -0.91437978 -1.51677895  0.22025201\n",
      "  2.69880056 -1.87182248  4.19583607  0.13765451]\n",
      "Id: 97, Vector: [ 0.08690037  5.78720379  1.33209431  3.88893032 -3.15039277 -1.7888478\n",
      " -2.6906569  -1.77430046 -3.68156838  1.25691974  1.95259762 -2.50791049\n",
      " -0.60998529  3.41917467 -2.52410293 -0.8167206  -0.81912398 -2.974298\n",
      "  4.32418728  0.6639415  -0.88787639  1.27283669  2.67871809  2.59172058\n",
      " -0.24240361 -3.61174893 -2.7981286   2.54314446 -1.0843159  -2.82171202\n",
      "  1.02281916  2.62198806  1.97118711  0.51654756  1.1396029   0.45890135\n",
      "  2.24879718  3.40771699  0.81778383 -2.28924179  0.24864261 -2.11488414\n",
      " -0.16711256 -2.08906674 -0.93630093 -2.5082078   3.38314009 -1.16193843\n",
      "  1.72058332  2.23845148  3.89969134  0.33100381 -0.36460048 -3.65069795\n",
      "  2.21447039  0.24676296 -0.94039744  1.11622024 -0.12484531 -3.09950781\n",
      "  2.0594058  -2.03838921  5.48985434  1.77498341]\n"
     ]
    }
   ],
   "source": [
    "results = cdb.get_by_id(ids=[\"97\", \"334\"])\n",
    "\n",
    "for k, v in results.items():\n",
    "    print(f\"Id: {k}, Vector: {v}\")"
   ]
  },
  {
   "cell_type": "markdown",
   "id": "14cff8dc",
   "metadata": {},
   "source": [
    "Here we'll search for the 5 nearest neighbors of the vector with id = '334'. Note that the closest of the 5 neighbors is the vector itself, since it's in the database."
   ]
  },
  {
   "cell_type": "code",
   "execution_count": null,
   "id": "b7d4b69e",
   "metadata": {},
   "outputs": [
    {
     "data": {
      "text/plain": [
       "{0: ['334', '3324', '21558', '48380', '35536']}"
      ]
     },
     "execution_count": 14,
     "metadata": {},
     "output_type": "execute_result"
    }
   ],
   "source": [
    "cdb.search_by_id(\"334\", k=5)"
   ]
  },
  {
   "cell_type": "markdown",
   "id": "8079aa88",
   "metadata": {},
   "source": [
    "We can repeat the search, using the vector that we found when running `get_by_id`. The results from this search should match those of `search_by_id`."
   ]
  },
  {
   "cell_type": "code",
   "execution_count": 15,
   "id": "81088de0",
   "metadata": {},
   "outputs": [
    {
     "data": {
      "text/plain": [
       "{0: ['334', '3324', '21558', '48380', '35536']}"
      ]
     },
     "execution_count": 15,
     "metadata": {},
     "output_type": "execute_result"
    }
   ],
   "source": [
    "cdb.search_by_vector([results[\"334\"]], k=5)"
   ]
  }
 ],
 "metadata": {
  "kernelspec": {
   "display_name": "hyrax",
   "language": "python",
   "name": "python3"
  },
  "language_info": {
   "codemirror_mode": {
    "name": "ipython",
    "version": 3
   },
   "file_extension": ".py",
   "mimetype": "text/x-python",
   "name": "python",
   "nbconvert_exporter": "python",
   "pygments_lexer": "ipython3",
   "version": "3.12.10"
  }
 },
 "nbformat": 4,
 "nbformat_minor": 5
}
