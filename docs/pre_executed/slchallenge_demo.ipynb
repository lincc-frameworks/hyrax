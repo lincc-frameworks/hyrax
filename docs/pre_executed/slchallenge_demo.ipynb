{
 "cells": [
  {
   "cell_type": "markdown",
   "id": "2a5ae1c8",
   "metadata": {},
   "source": [
    "TODO: Add some `pooch` work here to pull down the example files and stash them in the users local cache.\n",
    "TODO: Massage the data so that it's in the correct locations. My hunch here is that we can place all the files together in\n",
    "the same directory. And we'll need to concatenate the parameters.fits files together.\n",
    "The data files are sorted alphabetically, so we need to be careful about the way that we concatenate the parameters.fits\n",
    "so that the ordering is maintained."
   ]
  },
  {
   "cell_type": "code",
   "execution_count": null,
   "id": "8e882d00",
   "metadata": {},
   "outputs": [],
   "source": [
    "from hyrax import Hyrax\n",
    "\n",
    "h = Hyrax()"
   ]
  },
  {
   "cell_type": "code",
   "execution_count": null,
   "id": "66611059",
   "metadata": {},
   "outputs": [],
   "source": [
    "import numpy as np\n",
    "from pathlib import Path\n",
    "from torch.utils.data import Dataset\n",
    "from torch import from_numpy\n",
    "from hyrax.data_sets import HyraxDataset\n",
    "from astropy.io import fits\n",
    "from astropy.table import Table\n",
    "\n",
    "\n",
    "\"\"\"\n",
    "Note - `index` this class refers to the row index in the parameters.fits file.\n",
    "\"\"\"\n",
    "\n",
    "\n",
    "class SLDataset(HyraxDataset, Dataset):\n",
    "    def __init__(self, config: dict):\n",
    "        super().__init__(config)\n",
    "        self.data_directory = Path(config[\"general\"][\"data_dir\"])\n",
    "        self.metadata = self.read_metadata(self.data_directory)\n",
    "        self.filepaths = self.read_filepaths(self.data_directory)\n",
    "\n",
    "    def get_image(self, index: int):\n",
    "        image_stack = np.zeros((5, 41, 41), dtype=np.float32)\n",
    "        for b in range(5):\n",
    "            file_index = index * 5 + b\n",
    "            raw_data = fits.getdata(self.filepaths[file_index], memmap=False)\n",
    "            image_stack[b] = raw_data[0][1]\n",
    "\n",
    "        return from_numpy(image_stack)\n",
    "\n",
    "    def get_label(self, index: int):\n",
    "        file_index = index * 5\n",
    "        ret_value = np.array([0.0, 1.0], dtype=np.float32)\n",
    "        if \"_L_\" in str(self.filepaths[file_index]):\n",
    "            ret_value = np.array([1.0, 0.0], dtype=np.float32)\n",
    "        return from_numpy(ret_value)\n",
    "\n",
    "    def get_object_id(self, index: int) -> str:\n",
    "        id = \"no_id\"\n",
    "        if \"Lens ID\" in self.metadata.columns and str(self.metadata[index][\"Lens ID\"]) != \"--\":\n",
    "            id = str(self.metadata[index][\"Lens ID\"])\n",
    "        elif \"Object ID\" in self.metadata.columns and str(self.metadata[index][\"Object ID\"]) != \"--\":\n",
    "            id = str(self.metadata[index][\"Object ID\"])\n",
    "        return id\n",
    "\n",
    "    def get_filename(self, index: int) -> str:\n",
    "        file_index = index * 5\n",
    "        return str(self.filepaths[file_index].name)\n",
    "\n",
    "    def read_filepaths(self, data_directory: Path):\n",
    "        return sorted(list(data_directory.glob(\"*.fits\")))\n",
    "\n",
    "    def read_metadata(self, data_directory: Path):\n",
    "        table = Table.read(data_directory / \"parameters.fits\")\n",
    "        table[\"object_id\"] = np.where(table[\"Lens ID\"].mask, table[\"Object ID\"], table[\"Lens ID\"])\n",
    "        return table\n",
    "\n",
    "    def metadata_fields(self):\n",
    "        return self.metadata.columns\n",
    "\n",
    "    def __len__(self):\n",
    "        pattern = f\"*_*.fits\"\n",
    "        files = list(self.data_directory.glob(pattern))\n",
    "        return len(files) // 5\n",
    "\n",
    "    def __getitem__(self, index: int):\n",
    "        return {\n",
    "            \"image\": self.get_image(index),\n",
    "            \"label\": self.get_label(index),  # [1, 0] == lens, [0, 1] == non-lens\n",
    "            \"object_id\": self.get_object_id(index),\n",
    "        }"
   ]
  },
  {
   "cell_type": "code",
   "execution_count": null,
   "id": "580f75c8",
   "metadata": {},
   "outputs": [],
   "source": [
    "# h.config[\"general\"][\"data_dir\"] = \"/Users/drew/sl_data_challenge/hsc_lenses/hsc_lenses\"\n",
    "h.config[\"general\"][\"data_dir\"] = \"/home/drew/data/sl_100/hsc_combined\"\n",
    "h.config[\"data_set\"][\"name\"] = \"SLDataset\"\n",
    "\n",
    "ds = h.prepare()"
   ]
  },
  {
   "cell_type": "code",
   "execution_count": null,
   "id": "480cfb3a",
   "metadata": {},
   "outputs": [],
   "source": [
    "samp = ds[5]\n",
    "print(f\"ID: {samp['object_id']}\")\n",
    "print(f\"Is lens? {samp['label']}\")\n",
    "print(f\"Data shape: {samp['image'].shape}\")\n",
    "\n",
    "\n",
    "samp = ds[105]\n",
    "print(f\"ID: {samp['object_id']}\")\n",
    "print(f\"Is lens? {samp['label']}\")\n",
    "print(f\"Data shape: {samp['image'].shape}\")"
   ]
  },
  {
   "cell_type": "code",
   "execution_count": null,
   "id": "ee7b038b",
   "metadata": {},
   "outputs": [],
   "source": [
    "h.config[\"model\"][\"name\"] = \"HyraxCNN\"\n",
    "h.config[\"model\"][\"hyrax_cnn\"][\"output_classes\"] = 2\n",
    "h.config[\"train\"][\"epochs\"] = 10\n",
    "h.config[\"data_loader\"][\"batch_size\"] = 10"
   ]
  },
  {
   "cell_type": "code",
   "execution_count": null,
   "id": "8dd09955",
   "metadata": {},
   "outputs": [],
   "source": [
    "h.train()"
   ]
  },
  {
   "cell_type": "code",
   "execution_count": null,
   "id": "7690bd16",
   "metadata": {},
   "outputs": [],
   "source": [
    "h.infer()"
   ]
  },
  {
   "cell_type": "code",
   "execution_count": null,
   "id": "c4346352",
   "metadata": {},
   "outputs": [],
   "source": [
    "h.config[\"model\"][\"name\"] = \"HyraxAutoencoder\"\n",
    "h.train()"
   ]
  },
  {
   "cell_type": "code",
   "execution_count": null,
   "id": "27b099c6",
   "metadata": {},
   "outputs": [],
   "source": [
    "h.infer()"
   ]
  },
  {
   "cell_type": "code",
   "execution_count": null,
   "id": "433274e4",
   "metadata": {},
   "outputs": [],
   "source": [
    "from hyrax.data_sets import InferenceDataSet\n",
    "\n",
    "infer_dir = \"/home/drew/code/hyrax/docs/pre_executed/results/20250827-171048-infer-bxSr\"\n",
    "infer_ds = InferenceDataSet(h.config, infer_dir)\n",
    "infer_ds[1]"
   ]
  },
  {
   "cell_type": "code",
   "execution_count": null,
   "id": "8c25db61",
   "metadata": {},
   "outputs": [],
   "source": [
    "import numpy as np\n",
    "\n",
    "d = np.load(f\"{infer_dir}/batch_2.npy\")\n",
    "d"
   ]
  },
  {
   "cell_type": "code",
   "execution_count": null,
   "id": "50fade77",
   "metadata": {},
   "outputs": [],
   "source": [
    "batch_index = np.load(f\"{infer_dir}/batch_index.npy\")\n",
    "batch_index[1]"
   ]
  },
  {
   "cell_type": "code",
   "execution_count": null,
   "id": "b19db17e",
   "metadata": {},
   "outputs": [],
   "source": [
    "h.umap()"
   ]
  },
  {
   "cell_type": "code",
   "execution_count": null,
   "id": "923485d3",
   "metadata": {},
   "outputs": [],
   "source": [
    "viz = h.visualize()"
   ]
  },
  {
   "cell_type": "code",
   "execution_count": null,
   "id": "7dec9402",
   "metadata": {},
   "outputs": [],
   "source": []
  }
 ],
 "metadata": {
  "kernelspec": {
   "display_name": "hyrax",
   "language": "python",
   "name": "python3"
  },
  "language_info": {
   "codemirror_mode": {
    "name": "ipython",
    "version": 3
   },
   "file_extension": ".py",
   "mimetype": "text/x-python",
   "name": "python",
   "nbconvert_exporter": "python",
   "pygments_lexer": "ipython3",
   "version": "3.12.10"
  }
 },
 "nbformat": 4,
 "nbformat_minor": 5
}
