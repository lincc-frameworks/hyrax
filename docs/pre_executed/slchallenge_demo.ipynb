{
 "cells": [
  {
   "cell_type": "markdown",
   "id": "2a5ae1c8",
   "metadata": {},
   "source": [
    "TODO: Add some `pooch` work here to pull down the example files and stash them in the users local cache.\n",
    "TODO: Massage the data so that it's in the correct locations. My hunch here is that we can place all the files together in\n",
    "the same directory. And we'll need to concatenate the parameters.fits files together.\n",
    "The data files are sorted alphabetically, so we need to be careful about the way that we concatenate the parameters.fits\n",
    "so that the ordering is maintained."
   ]
  },
  {
   "cell_type": "code",
   "execution_count": 1,
   "id": "8e882d00",
   "metadata": {},
   "outputs": [
    {
     "name": "stderr",
     "output_type": "stream",
     "text": [
      "[2025-08-29 13:34:36,744 hyrax:INFO] Runtime Config read from: /Users/drew/code/hyrax/src/hyrax/hyrax_default_config.toml\n"
     ]
    }
   ],
   "source": [
    "from hyrax import Hyrax\n",
    "\n",
    "h = Hyrax()"
   ]
  },
  {
   "cell_type": "code",
   "execution_count": 2,
   "id": "66611059",
   "metadata": {},
   "outputs": [],
   "source": [
    "import numpy as np\n",
    "from pathlib import Path\n",
    "from torch.utils.data import Dataset\n",
    "from torch import from_numpy\n",
    "from hyrax.data_sets import HyraxDataset\n",
    "from astropy.io import fits\n",
    "from astropy.table import Table\n",
    "from collections.abc import Generator\n",
    "\n",
    "\n",
    "\"\"\"\n",
    "Note - `index` this class refers to the row index in the parameters.fits file.\n",
    "\"\"\"\n",
    "\n",
    "\n",
    "class SLDataset(HyraxDataset, Dataset):\n",
    "    def __init__(self, config: dict):\n",
    "        super().__init__(config)\n",
    "        self.data_directory = Path(config[\"general\"][\"data_dir\"])\n",
    "        self.metadata = self.read_metadata(self.data_directory)\n",
    "        self.filepaths = self.read_filepaths(self.data_directory)\n",
    "\n",
    "    def get_image(self, index: int):\n",
    "        image_stack = np.zeros((5, 41, 41), dtype=np.float32)\n",
    "        for b in range(5):\n",
    "            file_index = index * 5 + b\n",
    "            raw_data = fits.getdata(self.filepaths[file_index], memmap=False)\n",
    "            image_stack[b] = raw_data[0][1]\n",
    "\n",
    "        return from_numpy(image_stack)\n",
    "\n",
    "    def get_label(self, index: int) -> np.ndarray[int]:\n",
    "        file_index = index * 5\n",
    "        ret_value = np.array([0.0, 1.0], dtype=np.float32)\n",
    "        if \"_L_\" in str(self.filepaths[file_index]):\n",
    "            ret_value = np.array([1.0, 0.0], dtype=np.float32)\n",
    "        return from_numpy(ret_value)\n",
    "\n",
    "    def get_object_id(self, index: int) -> str:\n",
    "        id = \"no_id\"\n",
    "        if \"Lens ID\" in self.metadata.columns and str(self.metadata[index][\"Lens ID\"]) != \"--\":\n",
    "            id = str(self.metadata[index][\"Lens ID\"])\n",
    "        elif \"Object ID\" in self.metadata.columns and str(self.metadata[index][\"Object ID\"]) != \"--\":\n",
    "            id = str(self.metadata[index][\"Object ID\"])\n",
    "        return id\n",
    "\n",
    "    def get_filename(self, index: int) -> str:\n",
    "        file_index = index * 5\n",
    "        return str(self.filepaths[file_index].name)\n",
    "\n",
    "    def read_filepaths(self, data_directory: Path):\n",
    "        return sorted(list(data_directory.glob(\"*.fits\")))\n",
    "\n",
    "    def read_metadata(self, data_directory: Path):\n",
    "        table = Table.read(data_directory / \"parameters.fits\")\n",
    "        table[\"object_id\"] = np.where(table[\"Lens ID\"].mask, table[\"Object ID\"], table[\"Lens ID\"])\n",
    "        return table\n",
    "\n",
    "    def metadata_fields(self):\n",
    "        return self.metadata.columns\n",
    "\n",
    "    def ids(self) -> Generator[str]:\n",
    "        for x in range(len(self)):\n",
    "            yield str(self.get_object_id(x))\n",
    "\n",
    "    def __len__(self):\n",
    "        pattern = f\"*_*.fits\"\n",
    "        files = list(self.data_directory.glob(pattern))\n",
    "        return len(files) // 5\n",
    "\n",
    "    def __getitem__(self, index: int):\n",
    "        return {\n",
    "            \"image\": self.get_image(index),\n",
    "            \"label\": self.get_label(index),  # [1, 0] == lens, [0, 1] == non-lens\n",
    "            \"object_id\": self.get_object_id(index),\n",
    "        }"
   ]
  },
  {
   "cell_type": "code",
   "execution_count": 3,
   "id": "580f75c8",
   "metadata": {},
   "outputs": [
    {
     "name": "stderr",
     "output_type": "stream",
     "text": [
      "[2025-08-29 13:34:39,613 hyrax.prepare:INFO] Finished Prepare\n"
     ]
    }
   ],
   "source": [
    "h.config[\"general\"][\"data_dir\"] = \"/Users/drew/sl_data_challenge/sl_100/hsc_combined\"\n",
    "# h.config[\"general\"][\"data_dir\"] = \"/home/drew/data/sl_100/hsc_combined\"\n",
    "h.config[\"data_set\"][\"name\"] = \"SLDataset\"\n",
    "\n",
    "ds = h.prepare()"
   ]
  },
  {
   "cell_type": "code",
   "execution_count": 4,
   "id": "480cfb3a",
   "metadata": {},
   "outputs": [
    {
     "name": "stdout",
     "output_type": "stream",
     "text": [
      "ID: 70360665344203068\n",
      "Is lens? tensor([1., 0.])\n",
      "Data shape: torch.Size([5, 41, 41])\n",
      "ID: 41623412828827036\n",
      "Is lens? tensor([0., 1.])\n",
      "Data shape: torch.Size([5, 41, 41])\n"
     ]
    }
   ],
   "source": [
    "samp = ds[5]\n",
    "print(f\"ID: {samp['object_id']}\")\n",
    "print(f\"Is lens? {samp['label']}\")\n",
    "print(f\"Data shape: {samp['image'].shape}\")\n",
    "\n",
    "\n",
    "samp = ds[105]\n",
    "print(f\"ID: {samp['object_id']}\")\n",
    "print(f\"Is lens? {samp['label']}\")\n",
    "print(f\"Data shape: {samp['image'].shape}\")"
   ]
  },
  {
   "cell_type": "code",
   "execution_count": 5,
   "id": "ee7b038b",
   "metadata": {},
   "outputs": [],
   "source": [
    "h.config[\"model\"][\"name\"] = \"HyraxCNN\"\n",
    "h.config[\"model\"][\"hyrax_cnn\"][\"output_classes\"] = 2\n",
    "h.config[\"train\"][\"epochs\"] = 30\n",
    "h.config[\"data_loader\"][\"batch_size\"] = 10"
   ]
  },
  {
   "cell_type": "code",
   "execution_count": 6,
   "id": "8dd09955",
   "metadata": {},
   "outputs": [
    {
     "name": "stderr",
     "output_type": "stream",
     "text": [
      "[2025-08-29 13:34:40,376 hyrax.models.model_registry:INFO] Using criterion: torch.nn.CrossEntropyLoss with default arguments.\n",
      "[2025-08-29 13:34:40,377 hyrax.models.model_registry:INFO] Using optimizer: torch.optim.SGD with arguments: {'lr': 0.01, 'momentum': 0.9}.\n",
      "2025-08-29 13:34:40,390 ignite.distributed.auto.auto_dataloader INFO: Use data loader kwargs for dataset '<__main__.SLDataset': \n",
      "\t{'sampler': <hyrax.pytorch_ignite.SubsetSequentialSampler object at 0x15ce7dd60>, 'batch_size': 10, 'shuffle': False, 'pin_memory': False}\n",
      "2025-08-29 13:34:40,391 ignite.distributed.auto.auto_dataloader INFO: Use data loader kwargs for dataset '<__main__.SLDataset': \n",
      "\t{'sampler': <hyrax.pytorch_ignite.SubsetSequentialSampler object at 0x30ef53590>, 'batch_size': 10, 'shuffle': False, 'pin_memory': False}\n",
      "/Users/drew/opt/miniconda3/envs/hyrax/lib/python3.12/site-packages/ignite/handlers/tqdm_logger.py:127: TqdmExperimentalWarning: Using `tqdm.autonotebook.tqdm` in notebook mode. Use `tqdm.tqdm` instead to force console mode (e.g. in jupyter console)\n",
      "  from tqdm.autonotebook import tqdm\n",
      "2025/08/29 13:34:40 INFO mlflow.system_metrics.system_metrics_monitor: Skip logging GPU metrics. Set logger level to DEBUG for more details.\n",
      "2025/08/29 13:34:40 INFO mlflow.system_metrics.system_metrics_monitor: Started monitoring system metrics.\n",
      "[2025-08-29 13:34:40,513 hyrax.pytorch_ignite:INFO] Training model on device: mps\n"
     ]
    },
    {
     "data": {
      "application/vnd.jupyter.widget-view+json": {
       "model_id": "30b2192232fa4243ab2c5dafa5f8718d",
       "version_major": 2,
       "version_minor": 0
      },
      "text/plain": [
       "  8%|8         | 1/12 [00:00<?, ?it/s]"
      ]
     },
     "metadata": {},
     "output_type": "display_data"
    },
    {
     "data": {
      "application/vnd.jupyter.widget-view+json": {
       "model_id": "c3344e41aa1c41f0879e6d363273ec95",
       "version_major": 2,
       "version_minor": 0
      },
      "text/plain": [
       "  8%|8         | 1/12 [00:00<?, ?it/s]"
      ]
     },
     "metadata": {},
     "output_type": "display_data"
    },
    {
     "data": {
      "application/vnd.jupyter.widget-view+json": {
       "model_id": "0a911c126e6b4619b1e4cb66a0405b3b",
       "version_major": 2,
       "version_minor": 0
      },
      "text/plain": [
       "  8%|8         | 1/12 [00:00<?, ?it/s]"
      ]
     },
     "metadata": {},
     "output_type": "display_data"
    },
    {
     "data": {
      "application/vnd.jupyter.widget-view+json": {
       "model_id": "425690943f1e4636ab62f9a615751ad6",
       "version_major": 2,
       "version_minor": 0
      },
      "text/plain": [
       "  8%|8         | 1/12 [00:00<?, ?it/s]"
      ]
     },
     "metadata": {},
     "output_type": "display_data"
    },
    {
     "data": {
      "application/vnd.jupyter.widget-view+json": {
       "model_id": "7041132a094d4de690d8a5ce26a2e93c",
       "version_major": 2,
       "version_minor": 0
      },
      "text/plain": [
       "  8%|8         | 1/12 [00:00<?, ?it/s]"
      ]
     },
     "metadata": {},
     "output_type": "display_data"
    },
    {
     "data": {
      "application/vnd.jupyter.widget-view+json": {
       "model_id": "9b5c54bf03d444edb0d71545f91c1e14",
       "version_major": 2,
       "version_minor": 0
      },
      "text/plain": [
       "  8%|8         | 1/12 [00:00<?, ?it/s]"
      ]
     },
     "metadata": {},
     "output_type": "display_data"
    },
    {
     "data": {
      "application/vnd.jupyter.widget-view+json": {
       "model_id": "175fa45d1ee342ce88c44946e546158f",
       "version_major": 2,
       "version_minor": 0
      },
      "text/plain": [
       "  8%|8         | 1/12 [00:00<?, ?it/s]"
      ]
     },
     "metadata": {},
     "output_type": "display_data"
    },
    {
     "data": {
      "application/vnd.jupyter.widget-view+json": {
       "model_id": "2191a2bb1229403897209d81353216bf",
       "version_major": 2,
       "version_minor": 0
      },
      "text/plain": [
       "  8%|8         | 1/12 [00:00<?, ?it/s]"
      ]
     },
     "metadata": {},
     "output_type": "display_data"
    },
    {
     "data": {
      "application/vnd.jupyter.widget-view+json": {
       "model_id": "9e9d6531ea604025b5ca8d800d123948",
       "version_major": 2,
       "version_minor": 0
      },
      "text/plain": [
       "  8%|8         | 1/12 [00:00<?, ?it/s]"
      ]
     },
     "metadata": {},
     "output_type": "display_data"
    },
    {
     "data": {
      "application/vnd.jupyter.widget-view+json": {
       "model_id": "8438a331d1684d62a20b47d26fcdeff3",
       "version_major": 2,
       "version_minor": 0
      },
      "text/plain": [
       "  8%|8         | 1/12 [00:00<?, ?it/s]"
      ]
     },
     "metadata": {},
     "output_type": "display_data"
    },
    {
     "data": {
      "application/vnd.jupyter.widget-view+json": {
       "model_id": "b6865a8f367f4a4fa2b93ce1923c5c35",
       "version_major": 2,
       "version_minor": 0
      },
      "text/plain": [
       "  8%|8         | 1/12 [00:00<?, ?it/s]"
      ]
     },
     "metadata": {},
     "output_type": "display_data"
    },
    {
     "data": {
      "application/vnd.jupyter.widget-view+json": {
       "model_id": "5bcc686207ca4ab2a301f1382de4fcac",
       "version_major": 2,
       "version_minor": 0
      },
      "text/plain": [
       "  8%|8         | 1/12 [00:00<?, ?it/s]"
      ]
     },
     "metadata": {},
     "output_type": "display_data"
    },
    {
     "data": {
      "application/vnd.jupyter.widget-view+json": {
       "model_id": "230d92e717ca4e71a5cc4e03c4912126",
       "version_major": 2,
       "version_minor": 0
      },
      "text/plain": [
       "  8%|8         | 1/12 [00:00<?, ?it/s]"
      ]
     },
     "metadata": {},
     "output_type": "display_data"
    },
    {
     "data": {
      "application/vnd.jupyter.widget-view+json": {
       "model_id": "1fb914a28bf84bbe839f05c2887f274b",
       "version_major": 2,
       "version_minor": 0
      },
      "text/plain": [
       "  8%|8         | 1/12 [00:00<?, ?it/s]"
      ]
     },
     "metadata": {},
     "output_type": "display_data"
    },
    {
     "data": {
      "application/vnd.jupyter.widget-view+json": {
       "model_id": "328d9a2f83a7449c80c6436f7b456b0b",
       "version_major": 2,
       "version_minor": 0
      },
      "text/plain": [
       "  8%|8         | 1/12 [00:00<?, ?it/s]"
      ]
     },
     "metadata": {},
     "output_type": "display_data"
    },
    {
     "data": {
      "application/vnd.jupyter.widget-view+json": {
       "model_id": "cadefa7073b74920bdc00ab43a32d009",
       "version_major": 2,
       "version_minor": 0
      },
      "text/plain": [
       "  8%|8         | 1/12 [00:00<?, ?it/s]"
      ]
     },
     "metadata": {},
     "output_type": "display_data"
    },
    {
     "data": {
      "application/vnd.jupyter.widget-view+json": {
       "model_id": "c8ddb30fbcf44ff29475d14c80237bbe",
       "version_major": 2,
       "version_minor": 0
      },
      "text/plain": [
       "  8%|8         | 1/12 [00:00<?, ?it/s]"
      ]
     },
     "metadata": {},
     "output_type": "display_data"
    },
    {
     "data": {
      "application/vnd.jupyter.widget-view+json": {
       "model_id": "46d3735a3540482cad61a27efcae17f6",
       "version_major": 2,
       "version_minor": 0
      },
      "text/plain": [
       "  8%|8         | 1/12 [00:00<?, ?it/s]"
      ]
     },
     "metadata": {},
     "output_type": "display_data"
    },
    {
     "data": {
      "application/vnd.jupyter.widget-view+json": {
       "model_id": "493f442f6eca41b5a512730fc7b35b7c",
       "version_major": 2,
       "version_minor": 0
      },
      "text/plain": [
       "  8%|8         | 1/12 [00:00<?, ?it/s]"
      ]
     },
     "metadata": {},
     "output_type": "display_data"
    },
    {
     "data": {
      "application/vnd.jupyter.widget-view+json": {
       "model_id": "bd6ebb08d4af419dad76b47f02766902",
       "version_major": 2,
       "version_minor": 0
      },
      "text/plain": [
       "  8%|8         | 1/12 [00:00<?, ?it/s]"
      ]
     },
     "metadata": {},
     "output_type": "display_data"
    },
    {
     "data": {
      "application/vnd.jupyter.widget-view+json": {
       "model_id": "592cc3a89a8149d6a239bd49118bb3d0",
       "version_major": 2,
       "version_minor": 0
      },
      "text/plain": [
       "  8%|8         | 1/12 [00:00<?, ?it/s]"
      ]
     },
     "metadata": {},
     "output_type": "display_data"
    },
    {
     "data": {
      "application/vnd.jupyter.widget-view+json": {
       "model_id": "4f1fa47ac6ac42f0ae752a13184cb1dd",
       "version_major": 2,
       "version_minor": 0
      },
      "text/plain": [
       "  8%|8         | 1/12 [00:00<?, ?it/s]"
      ]
     },
     "metadata": {},
     "output_type": "display_data"
    },
    {
     "data": {
      "application/vnd.jupyter.widget-view+json": {
       "model_id": "a2469a592e574e22b59d5d31892d4cd2",
       "version_major": 2,
       "version_minor": 0
      },
      "text/plain": [
       "  8%|8         | 1/12 [00:00<?, ?it/s]"
      ]
     },
     "metadata": {},
     "output_type": "display_data"
    },
    {
     "data": {
      "application/vnd.jupyter.widget-view+json": {
       "model_id": "b01aba26b1034b2ab1867f6bc9414fe6",
       "version_major": 2,
       "version_minor": 0
      },
      "text/plain": [
       "  8%|8         | 1/12 [00:00<?, ?it/s]"
      ]
     },
     "metadata": {},
     "output_type": "display_data"
    },
    {
     "data": {
      "application/vnd.jupyter.widget-view+json": {
       "model_id": "d3f086393669443fba7001bc310633cd",
       "version_major": 2,
       "version_minor": 0
      },
      "text/plain": [
       "  8%|8         | 1/12 [00:00<?, ?it/s]"
      ]
     },
     "metadata": {},
     "output_type": "display_data"
    },
    {
     "data": {
      "application/vnd.jupyter.widget-view+json": {
       "model_id": "608bdf07d9c44b3ca3a3f715cb4ed65a",
       "version_major": 2,
       "version_minor": 0
      },
      "text/plain": [
       "  8%|8         | 1/12 [00:00<?, ?it/s]"
      ]
     },
     "metadata": {},
     "output_type": "display_data"
    },
    {
     "data": {
      "application/vnd.jupyter.widget-view+json": {
       "model_id": "3e73d93547364f9991482a89adff262e",
       "version_major": 2,
       "version_minor": 0
      },
      "text/plain": [
       "  8%|8         | 1/12 [00:00<?, ?it/s]"
      ]
     },
     "metadata": {},
     "output_type": "display_data"
    },
    {
     "data": {
      "application/vnd.jupyter.widget-view+json": {
       "model_id": "481bec4ecabd433a9f4fef74a1d6fa72",
       "version_major": 2,
       "version_minor": 0
      },
      "text/plain": [
       "  8%|8         | 1/12 [00:00<?, ?it/s]"
      ]
     },
     "metadata": {},
     "output_type": "display_data"
    },
    {
     "data": {
      "application/vnd.jupyter.widget-view+json": {
       "model_id": "a8b3a67745bc4872a803c84b1fda09e6",
       "version_major": 2,
       "version_minor": 0
      },
      "text/plain": [
       "  8%|8         | 1/12 [00:00<?, ?it/s]"
      ]
     },
     "metadata": {},
     "output_type": "display_data"
    },
    {
     "data": {
      "application/vnd.jupyter.widget-view+json": {
       "model_id": "28a19b4f514c487893fb91ecf5e71228",
       "version_major": 2,
       "version_minor": 0
      },
      "text/plain": [
       "  8%|8         | 1/12 [00:00<?, ?it/s]"
      ]
     },
     "metadata": {},
     "output_type": "display_data"
    },
    {
     "name": "stderr",
     "output_type": "stream",
     "text": [
      "[2025-08-29 13:35:08,129 hyrax.pytorch_ignite:INFO] Total training time: 27.62[s]\n",
      "[2025-08-29 13:35:08,129 hyrax.pytorch_ignite:INFO] Latest checkpoint saved as: /Users/drew/code/hyrax/docs/pre_executed/results/20250829-133440-train-LAPy/checkpoint_epoch_30.pt\n",
      "[2025-08-29 13:35:08,130 hyrax.pytorch_ignite:INFO] Best metric checkpoint saved as: /Users/drew/code/hyrax/docs/pre_executed/results/20250829-133440-train-LAPy/checkpoint_30_loss=-0.1448.pt\n",
      "2025/08/29 13:35:08 INFO mlflow.system_metrics.system_metrics_monitor: Stopping system metrics monitoring...\n",
      "2025/08/29 13:35:08 INFO mlflow.system_metrics.system_metrics_monitor: Successfully terminated system metrics monitoring!\n",
      "[2025-08-29 13:35:08,141 hyrax.verbs.train:INFO] Finished Training\n",
      "[2025-08-29 13:35:08,247 hyrax.model_exporters:INFO] Exported model to ONNX format: /Users/drew/code/hyrax/docs/pre_executed/results/20250829-133440-train-LAPy/example_model_opset_20.onnx\n"
     ]
    },
    {
     "data": {
      "text/plain": [
       "HyraxCNN(\n",
       "  (conv1): Conv2d(5, 16, kernel_size=(5, 5), stride=(1, 1))\n",
       "  (pool): MaxPool2d(kernel_size=2, stride=2, padding=0, dilation=1, ceil_mode=False)\n",
       "  (conv2): Conv2d(16, 64, kernel_size=(5, 5), stride=(1, 1))\n",
       "  (fc1): Linear(in_features=3136, out_features=120, bias=True)\n",
       "  (fc2): Linear(in_features=120, out_features=84, bias=True)\n",
       "  (fc3): Linear(in_features=84, out_features=2, bias=True)\n",
       "  (criterion): CrossEntropyLoss()\n",
       ")"
      ]
     },
     "execution_count": 6,
     "metadata": {},
     "output_type": "execute_result"
    }
   ],
   "source": [
    "h.train()"
   ]
  },
  {
   "cell_type": "code",
   "execution_count": 7,
   "id": "7690bd16",
   "metadata": {},
   "outputs": [
    {
     "name": "stderr",
     "output_type": "stream",
     "text": [
      "[2025-08-29 13:35:10,269 hyrax.models.model_registry:INFO] Using criterion: torch.nn.CrossEntropyLoss with default arguments.\n",
      "[2025-08-29 13:35:10,270 hyrax.models.model_registry:INFO] Using optimizer: torch.optim.SGD with arguments: {'lr': 0.01, 'momentum': 0.9}.\n",
      "[2025-08-29 13:35:10,273 hyrax.verbs.infer:INFO] data set has length 200\n",
      "2025-08-29 13:35:10,279 ignite.distributed.auto.auto_dataloader INFO: Use data loader kwargs for dataset '<__main__.SLDataset': \n",
      "\t{'sampler': None, 'batch_size': 10, 'shuffle': False, 'pin_memory': False}\n",
      "[2025-08-29 13:35:10,311 hyrax.verbs.infer:INFO] Saving inference results at: /Users/drew/code/hyrax/docs/pre_executed/results/20250829-133510-infer-o919\n",
      "[2025-08-29 13:35:10,438 hyrax.pytorch_ignite:INFO] Evaluating model on device: mps\n",
      "[2025-08-29 13:35:10,439 hyrax.pytorch_ignite:INFO] Total epochs: 1\n"
     ]
    },
    {
     "name": "stdout",
     "output_type": "stream",
     "text": [
      "Object IDs provided: ['75339120850791805', '74643937444253184', '44223324036811477', '69581790204943781', '69599657268895544', '70360665344203068', '37489781684342465', '69599103218113191', '69612439091552763', '69573677011698420']\n"
     ]
    },
    {
     "data": {
      "application/vnd.jupyter.widget-view+json": {
       "model_id": "69db4f092d7440efb8138b3280278598",
       "version_major": 2,
       "version_minor": 0
      },
      "text/plain": [
       "  5%|5         | 1/20 [00:00<?, ?it/s]"
      ]
     },
     "metadata": {},
     "output_type": "display_data"
    },
    {
     "name": "stdout",
     "output_type": "stream",
     "text": [
      "Object IDs provided: ['69577400748364220', '76552951623077653', '74643928854324513', '69622059818316703', '70387049328282573', '70386783040321743', '69572856672967091', '70347471204663526', '69609007412698822', '75954546714644652']\n",
      "Object IDs provided: ['70391696482918645', '69573140140808789', '70351431164520485', '69626599598751766', '70413553571486247', '69581648471021172', '69595546985187065', '69612980257449824', '37489644245381543', '37484705032990087']\n",
      "Object IDs provided: ['70364758448036762', '37489115964407754', '69590453153975278', '69586454539427150', '44218243090502299', '69572860967930922', '42697201897461701', '69585913373548053', '70364779922872457', '42089601464029668']\n",
      "Object IDs provided: ['75954417865623042', '69608315922964236', '69582060787879216', '70356263002727004', '69608461951854113', '70413420427502463', '41619693387150398', '69590320009988197', '70373438576938421', '69568737799330651']\n",
      "Object IDs provided: ['69586196841390155', '44223324036819347', '69608736829760473', '38553288601261402', '70403950024616924', '70373167993998954', '69617112015990258', '69599519829940840', '70417264423227345', '43158309586368806']\n",
      "Object IDs provided: ['69587004295239638', '43158047593357454', '69603780437496012', '70378111501363044', '69572860967932760', '37485125939796434', '69559941706308043', '69634979079942291', '70404774658342009', '75954404980731472']\n",
      "Object IDs provided: ['69559658238464293', '69572848083031479', '69560633196026036', '70351426869555174', '70395278485652400', '69560349728181860', '69621239479557441', '42687851753664974', '69634420734186160', '69608590800878224']\n",
      "Object IDs provided: ['69603496969656401', '40555383311319573', '69564056284955195', '69621248069493641', '70369714840300052', '38553838357083494', '70386628421506387', '69613268020265457', '70417822768977020', '70400518345745950']\n",
      "Object IDs provided: ['69595675834209377', '70378639782339877', '69560074850294115', '75959215344089357', '41623958289666671', '37489523986299965', '75339520282752494', '74649014095608643', '69594855495454307', '69569412109192801']\n",
      "Object IDs provided: ['45823676095949100', '42635367253315079', '37485533961653591', '75954409275677042', '42177407775440432', '41623412828827036', '75954684153596822', '42045891581864408', '41619693387146252', '43158605939105938']\n",
      "Object IDs provided: ['44218384824425123', '43163416302486584', '37484846766906075', '37494330054703272', '42094832734201963', '42261790997903176', '37494059471766649', '41641546180745388', '43154319561747539', '42089880636916806']\n",
      "Object IDs provided: ['43159129925124899', '42692533268014152', '42692666412002008', '42186775099114966', '44218509378484987', '44223195187795253', '42705465414543417', '37489798864209881', '42265514734550119', '74701674689623119']\n",
      "Object IDs provided: ['38557952935746880', '75334576775390186', '41227584347858869', '43163265978617257', '42195416573307561', '44227580349417472', '41605678908861359', '42692537562992337', '38553846947011681', '44187461059897243']\n",
      "Object IDs provided: ['44222499403096930', '37484833882001810', '43716870083211840', '42687740084486350', '75339116555837574', '41646094551118923', '38558232108624564', '75338566800008684', '75958957646050627', '37485538256620663']\n",
      "Object IDs provided: ['75954435045483735', '38549161137696216', '43158339651128880', '43153928719723033', '44227593234306162', '44222645431991949', '41619543063296667', '42679472272473201', '42090288658808058', '40994771350614707']\n",
      "Object IDs provided: ['41628223192201069', '38553559184205993', '42691987807172975', '75339228224970215', '42094553561303805', '42090138334946780', '75334160163569917', '42697339336413283', '42639202659102428', '38549427425669755']\n"
     ]
    },
    {
     "name": "stderr",
     "output_type": "stream",
     "text": [
      "[2025-08-29 13:35:11,562 hyrax.pytorch_ignite:INFO] Total evaluation time: 1.12[s]\n"
     ]
    },
    {
     "name": "stdout",
     "output_type": "stream",
     "text": [
      "Object IDs provided: ['45841255397072618', '42032968025251216', '75334306192459513', '42692679296903886', '41623421418757619', '41623949699747469', '41206139576145641', '42714660939523783', '41619401329368928', '75339511692818313']\n",
      "Object IDs provided: ['41623554562744681', '75954825887510208', '43158464205195928', '37485387932780723', '42692249800174635', '38548886259791467', '41637281278220554', '37485533961667633', '41619143631342981', '41025561971152507']\n",
      "Object IDs provided: ['75334297602524100', '43153911539866729', '43159151399957508', '37484700738029940', '45846082940332471', '41628369221081083', '43158863637138464', '42635358663376466', '38553834062110268', '41619697682119738']\n"
     ]
    },
    {
     "name": "stderr",
     "output_type": "stream",
     "text": [
      "[2025-08-29 13:35:11,591 hyrax.verbs.infer:INFO] Inference Complete.\n"
     ]
    },
    {
     "data": {
      "text/plain": [
       "<hyrax.data_sets.inference_dataset.InferenceDataSet at 0x310140290>"
      ]
     },
     "execution_count": 7,
     "metadata": {},
     "output_type": "execute_result"
    }
   ],
   "source": [
    "h.infer()"
   ]
  },
  {
   "cell_type": "code",
   "execution_count": 15,
   "id": "582653e5",
   "metadata": {},
   "outputs": [
    {
     "name": "stdout",
     "output_type": "stream",
     "text": [
      "Total Lens: 81, Total Non-Lens: 119\n",
      "True Positives: 21, True Negatives: 40, False Positives: 60, False Negatives: 79\n"
     ]
    }
   ],
   "source": [
    "from hyrax.data_sets import InferenceDataSet\n",
    "import torch\n",
    "\n",
    "infer_dir = \"/Users/drew/code/hyrax/docs/pre_executed/results/20250829-133510-infer-o919\"\n",
    "infer_ds = InferenceDataSet(h.config, infer_dir)\n",
    "\n",
    "lens_count = 0\n",
    "nonlens_count = 0\n",
    "true_pos = 0\n",
    "true_neg = 0\n",
    "false_pos = 0\n",
    "false_neg = 0\n",
    "for indx, id in enumerate(infer_ds.ids()):\n",
    "    _, predicted = torch.max(infer_ds[indx], 0)\n",
    "    if predicted == 0:\n",
    "        lens_count += 1\n",
    "    else:\n",
    "        nonlens_count += 1\n",
    "\n",
    "    orig_data = ds[indx]\n",
    "    label = orig_data['label']\n",
    "    if label[0] == 1.0 and predicted == 0:\n",
    "        true_pos += 1\n",
    "    elif label[1] == 1.0 and predicted == 0:\n",
    "        false_pos += 1\n",
    "    elif label[0] == 0.0 and predicted == 1:\n",
    "        true_neg += 1\n",
    "    elif label[0] == 1.0 and predicted == 1:\n",
    "        false_neg += 1\n",
    "\n",
    "print(f\"Total Lens: {lens_count}, Total Non-Lens: {nonlens_count}\")\n",
    "print(f\"True Positives: {true_pos}, True Negatives: {true_neg}, False Positives: {false_pos}, False Negatives: {false_neg}\")"
   ]
  },
  {
   "cell_type": "code",
   "execution_count": null,
   "id": "c4346352",
   "metadata": {},
   "outputs": [],
   "source": [
    "h.config[\"model\"][\"name\"] = \"HyraxAutoencoder\"\n",
    "h.train()"
   ]
  },
  {
   "cell_type": "code",
   "execution_count": null,
   "id": "27b099c6",
   "metadata": {},
   "outputs": [],
   "source": [
    "h.infer()"
   ]
  },
  {
   "cell_type": "code",
   "execution_count": null,
   "id": "433274e4",
   "metadata": {},
   "outputs": [],
   "source": [
    "from hyrax.data_sets import InferenceDataSet\n",
    "\n",
    "infer_dir = \"/Users/drew/code/hyrax/docs/pre_executed/results/20250828-133458-infer-S_IB\"\n",
    "infer_ds = InferenceDataSet(h.config, infer_dir)\n",
    "infer_ds[1]"
   ]
  },
  {
   "cell_type": "code",
   "execution_count": null,
   "id": "8c25db61",
   "metadata": {},
   "outputs": [],
   "source": [
    "import numpy as np\n",
    "\n",
    "d = np.load(f\"{infer_dir}/batch_2.npy\")\n",
    "d"
   ]
  },
  {
   "cell_type": "code",
   "execution_count": null,
   "id": "50fade77",
   "metadata": {},
   "outputs": [],
   "source": [
    "batch_index = np.load(f\"{infer_dir}/batch_index.npy\")\n",
    "batch_index[1]"
   ]
  },
  {
   "cell_type": "code",
   "execution_count": null,
   "id": "b19db17e",
   "metadata": {},
   "outputs": [],
   "source": [
    "h.umap()"
   ]
  },
  {
   "cell_type": "code",
   "execution_count": null,
   "id": "923485d3",
   "metadata": {},
   "outputs": [],
   "source": [
    "viz = h.visualize()"
   ]
  }
 ],
 "metadata": {
  "kernelspec": {
   "display_name": "hyrax",
   "language": "python",
   "name": "python3"
  },
  "language_info": {
   "codemirror_mode": {
    "name": "ipython",
    "version": 3
   },
   "file_extension": ".py",
   "mimetype": "text/x-python",
   "name": "python",
   "nbconvert_exporter": "python",
   "pygments_lexer": "ipython3",
   "version": "3.12.9"
  }
 },
 "nbformat": 4,
 "nbformat_minor": 5
}
