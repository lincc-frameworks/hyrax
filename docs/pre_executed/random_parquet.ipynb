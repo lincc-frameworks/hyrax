{
 "cells": [
  {
   "cell_type": "code",
   "execution_count": null,
   "id": "a72367cd",
   "metadata": {},
   "outputs": [],
   "source": [
    "from hyrax import Hyrax\n",
    "\n",
    "h = Hyrax()"
   ]
  },
  {
   "cell_type": "code",
   "execution_count": null,
   "id": "47f647b1",
   "metadata": {},
   "outputs": [],
   "source": [
    "h.config[\"train\"][\"epochs\"] = 1\n",
    "h.train()"
   ]
  },
  {
   "cell_type": "code",
   "execution_count": null,
   "id": "bb0311a0",
   "metadata": {},
   "outputs": [],
   "source": [
    "ds = h.infer()  # Run inference and return the resulting dataset"
   ]
  },
  {
   "cell_type": "code",
   "execution_count": null,
   "id": "4c936fd1",
   "metadata": {},
   "outputs": [],
   "source": [
    "# Access patterns for the resulting InferenceDataset\n",
    "aa = ds[100]  # Retrieve a single index\n",
    "bb = ds[0:10:2]  # A slice of indices\n",
    "# cc = ds[[0, 2, 4, 6, 8]]  # Or provide a list of indices to return\n",
    "dd = ds[\"asdf\"]  # Iterable \"index\", results in an error message and returns None"
   ]
  },
  {
   "cell_type": "code",
   "execution_count": null,
   "id": "c00a3f10",
   "metadata": {},
   "outputs": [],
   "source": [
    "ds.get_id([10])"
   ]
  },
  {
   "cell_type": "code",
   "execution_count": null,
   "id": "845aa3da",
   "metadata": {},
   "outputs": [],
   "source": [
    "h.save_to_database()"
   ]
  },
  {
   "cell_type": "code",
   "execution_count": null,
   "id": "d7f79cb1",
   "metadata": {},
   "outputs": [],
   "source": [
    "import numpy as np\n",
    "import json\n",
    "import pyarrow as pa\n",
    "import pyarrow.parquet as pq\n",
    "\n",
    "tensors_0 = [np.random.rand(3, 4, 5) for _ in range(512)]\n",
    "tensor_shape = tensors_0[0].shape\n",
    "ids_0 = np.arange(512).astype(str)\n",
    "\n",
    "tensors_1 = [np.random.rand(3, 4, 5) for _ in range(512)]\n",
    "ids_1 = np.arange(512).astype(str)"
   ]
  },
  {
   "cell_type": "code",
   "execution_count": null,
   "id": "506293cf",
   "metadata": {},
   "outputs": [],
   "source": [
    "### Current implementation in Inference dataset\n",
    "\n",
    "buffer = {}\n",
    "# _shape = json.dumps(tensors_0[0].shape)\n",
    "\n",
    "flattened_model_output = [o.flatten() for o in tensors_0]\n",
    "\n",
    "buffer[\"id\"] = buffer.get(\"id\", []) + list(ids_0)\n",
    "buffer[\"model_output\"] = buffer.get(\"model_output\", []) + flattened_model_output\n",
    "\n",
    "table = pa.Table.from_arrays([buffer[\"id\"], buffer[\"model_output\"]], names=[\"id\", \"model_output\"])\n",
    "\n",
    "pq.write_to_dataset(table, root_path=\"./output\")\n",
    "\n",
    "for k in buffer.keys():\n",
    "    buffer[k] = []"
   ]
  },
  {
   "cell_type": "code",
   "execution_count": null,
   "id": "256cb82a",
   "metadata": {},
   "outputs": [],
   "source": [
    "### New experimental implementation that doesn't require unflattening the numpy arrays\n",
    "\n",
    "buffer = {}\n",
    "shape = tensors_0[0].shape\n",
    "\n",
    "tensors_pa = pa.FixedSizeListArray.from_arrays(np.array(tensors_0).flatten(), np.prod(shape))\n",
    "ty = pa.fixed_shape_tensor(pa.float64(), shape=shape)\n",
    "arr = pa.FixedShapeTensorArray.from_storage(ty, tensors_pa)\n",
    "# table = pa.table({\"tensor\": arr})\n",
    "\n",
    "# flattened_model_output = [o.flatten() for o in tensors_0]\n",
    "\n",
    "buffer[\"id\"] = buffer.get(\"id\", []) + list(ids_0)\n",
    "buffer[\"model_output\"] = buffer.get(\"model_output\", []) + flattened_model_output\n",
    "\n",
    "table = pa.Table.from_arrays([buffer[\"id\"], arr], names=[\"id\", \"model_output\"])\n",
    "\n",
    "pq.write_to_dataset(table, root_path=\"./output\")\n",
    "\n",
    "for k in buffer.keys():\n",
    "    buffer[k] = []"
   ]
  },
  {
   "cell_type": "code",
   "execution_count": null,
   "id": "58fba7a7",
   "metadata": {},
   "outputs": [],
   "source": [
    "data = pq.read_table(\n",
    "    \"/home/drew/code/hyrax/docs/pre_executed/output/7fd0474d170d4d9fb5518653f414f8d8-0.parquet\"\n",
    ")\n",
    "\n",
    "data[\"model_output\"][0]"
   ]
  },
  {
   "cell_type": "code",
   "execution_count": null,
   "id": "f9cc2131",
   "metadata": {},
   "outputs": [],
   "source": [
    "buffer = {}\n",
    "shape = tensors_0[0].shape\n",
    "\n",
    "# tensors_pa = pa.FixedSizeListArray.from_arrays(np.array(tensors_0).flatten(), np.prod(shape))\n",
    "# ty = pa.fixed_shape_tensor(pa.float64(), shape=shape)\n",
    "arr = pa.FixedShapeTensorArray.from_numpy_ndarray(np.array(tensors_0))\n",
    "arr2 = pa.FixedShapeTensorArray.from_numpy_ndarray(np.array(tensors_1))\n",
    "# table = pa.table({\"tensor\": arr})\n",
    "\n",
    "# flattened_model_output = [o.flatten() for o in tensors_0]\n",
    "\n",
    "buffer[\"id\"] = buffer.get(\"id\", []) + list(ids_0)\n",
    "\n",
    "table = pa.Table.from_arrays([buffer[\"id\"], arr], names=[\"id\", \"model_output\"])\n",
    "\n",
    "pq.write_to_dataset(table, root_path=\"./output\")\n",
    "\n",
    "for k in buffer.keys():\n",
    "    buffer[k] = []"
   ]
  },
  {
   "cell_type": "code",
   "execution_count": null,
   "id": "4955834e",
   "metadata": {},
   "outputs": [],
   "source": [
    "data = pq.read_table(\n",
    "    \"/home/drew/code/hyrax/docs/pre_executed/output/acc93f5f5b594cee8281b81c97352b89-0.parquet\"\n",
    ")\n",
    "test = data[\"model_output\"][3]\n",
    "\n",
    "for i in test:\n",
    "    print(i.to_numpy().shape)\n",
    "    print(i.to_numpy().ndim)"
   ]
  },
  {
   "cell_type": "code",
   "execution_count": null,
   "id": "868573f0",
   "metadata": {},
   "outputs": [],
   "source": [
    "np.array([str(i) for i in data[\"id\"][0]])"
   ]
  },
  {
   "cell_type": "code",
   "execution_count": null,
   "id": "015daf78",
   "metadata": {},
   "outputs": [],
   "source": [
    "pddata = data.to_pandas()\n",
    "pddata[\"model_output\"].iloc[0]"
   ]
  }
 ],
 "metadata": {
  "kernelspec": {
   "display_name": "hyrax",
   "language": "python",
   "name": "python3"
  },
  "language_info": {
   "codemirror_mode": {
    "name": "ipython",
    "version": 3
   },
   "file_extension": ".py",
   "mimetype": "text/x-python",
   "name": "python",
   "nbconvert_exporter": "python",
   "pygments_lexer": "ipython3",
   "version": "3.12.9"
  }
 },
 "nbformat": 4,
 "nbformat_minor": 5
}
