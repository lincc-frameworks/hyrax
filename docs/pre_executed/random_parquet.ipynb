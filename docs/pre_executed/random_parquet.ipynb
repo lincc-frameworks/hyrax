{
 "cells": [
  {
   "cell_type": "code",
   "execution_count": null,
   "id": "a72367cd",
   "metadata": {},
   "outputs": [],
   "source": [
    "from hyrax import Hyrax\n",
    "h = Hyrax()"
   ]
  },
  {
   "cell_type": "code",
   "execution_count": null,
   "id": "47f647b1",
   "metadata": {},
   "outputs": [],
   "source": [
    "h.config['train']['epochs'] = 1\n",
    "h.train()"
   ]
  },
  {
   "cell_type": "code",
   "execution_count": null,
   "id": "bb0311a0",
   "metadata": {},
   "outputs": [],
   "source": [
    "ds = h.infer()  # Run inference and return the resulting dataset"
   ]
  },
  {
   "cell_type": "code",
   "execution_count": null,
   "id": "4c936fd1",
   "metadata": {},
   "outputs": [],
   "source": [
    "# Access patterns for the resulting InferenceDataset\n",
    "aa = ds[100]  # Retrieve a single index\n",
    "bb = ds[0:10:2]  # A slice of indices\n",
    "cc = ds[[0,2,4,6,8]]  # Or provide a list of indices to return\n",
    "dd = ds['asdf']  # Iterable \"index\", results in an error message and returns None"
   ]
  },
  {
   "cell_type": "code",
   "execution_count": null,
   "id": "845aa3da",
   "metadata": {},
   "outputs": [],
   "source": [
    "h.save_to_database()"
   ]
  },
  {
   "cell_type": "code",
   "execution_count": null,
   "id": "d7f79cb1",
   "metadata": {},
   "outputs": [],
   "source": [
    "import numpy as np\n",
    "import json\n",
    "import pyarrow as pa\n",
    "import pyarrow.parquet as pq\n",
    "\n",
    "\n",
    "tensors = [np.random.rand(3,4,5) for _ in range(512)]\n",
    "tensor_shape = tensors[0].shape\n",
    "ids = np.arange(512)"
   ]
  },
  {
   "cell_type": "code",
   "execution_count": null,
   "id": "a67e52d5",
   "metadata": {},
   "outputs": [],
   "source": [
    "pa.parquet.write_table(table, './output.parquet')\n",
    "new_table = pa.parquet.read_table('./output.parquet')\n",
    "assert table == new_table"
   ]
  },
  {
   "cell_type": "code",
   "execution_count": null,
   "id": "e0726059",
   "metadata": {},
   "outputs": [],
   "source": [
    "\n",
    "_shape = json.dumps(tensors[0].shape)\n",
    "flattened_tensors = [tensor.flatten() for tensor in tensors]\n",
    "table = pa.Table.from_arrays([ids, flattened_tensors], names=['id', 'tensor'])\n",
    "table = table.replace_schema_metadata({'shape': _shape})\n",
    "\n",
    "pq.write_table(table, './output.parquet')"
   ]
  },
  {
   "cell_type": "code",
   "execution_count": null,
   "id": "87e57a7f",
   "metadata": {},
   "outputs": [],
   "source": [
    "table = pq.read_table('./output.parquet')\n",
    "retrieved_metadata_bytes = table.schema.metadata.get(b'shape')\n",
    "reshape_dims = json.loads(retrieved_metadata_bytes)\n",
    "df = table.to_pandas()\n",
    "df['tensor'][0].reshape(reshape_dims)"
   ]
  },
  {
   "cell_type": "code",
   "execution_count": null,
   "id": "bc4942fb",
   "metadata": {},
   "outputs": [],
   "source": [
    "import pyarrow.parquet as pq\n",
    "\n",
    "table = pq.read_table('/Users/drew/code/hyrax/docs/pre_executed/results/20250818-160645-infer-Bcjm/output.parquet')\n",
    "\n",
    "tensor_shape = table.schema.metadata.get(b'tensor_shape')\n",
    "df = table.to_pandas()"
   ]
  },
  {
   "cell_type": "code",
   "execution_count": null,
   "id": "ec26afc9",
   "metadata": {},
   "outputs": [],
   "source": [
    "a = df[0:10]\n",
    "len(a['tensor'][0])"
   ]
  }
 ],
 "metadata": {
  "kernelspec": {
   "display_name": "hyrax",
   "language": "python",
   "name": "python3"
  },
  "language_info": {
   "codemirror_mode": {
    "name": "ipython",
    "version": 3
   },
   "file_extension": ".py",
   "mimetype": "text/x-python",
   "name": "python",
   "nbconvert_exporter": "python",
   "pygments_lexer": "ipython3",
   "version": "3.12.9"
  }
 },
 "nbformat": 4,
 "nbformat_minor": 5
}
