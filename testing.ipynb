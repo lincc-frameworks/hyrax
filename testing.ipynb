{
 "cells": [
  {
   "cell_type": "code",
   "execution_count": null,
   "id": "9d6e3079",
   "metadata": {},
   "outputs": [],
   "source": [
    "from hyrax import Hyrax\n",
    "\n",
    "# h = Hyrax(config_file=\"/home/drew/code/hyrax/test_config.toml\")\n",
    "h = Hyrax()\n",
    "h.config[\"model\"][\"name\"] = \"external_hyrax_example.example_model.ExampleModel\""
   ]
  },
  {
   "cell_type": "code",
   "execution_count": null,
   "id": "1b58b63a",
   "metadata": {},
   "outputs": [],
   "source": [
    "cm = h.config_manager\n",
    "c = cm.overall_default_config\n",
    "c[\"model\"]\n",
    "cm._find_external_library_default_config_paths(cm.overall_default_config)"
   ]
  },
  {
   "cell_type": "code",
   "execution_count": null,
   "id": "645efbfc",
   "metadata": {},
   "outputs": [],
   "source": [
    "h.train()"
   ]
  }
 ],
 "metadata": {
  "kernelspec": {
   "display_name": "hyrax",
   "language": "python",
   "name": "python3"
  },
  "language_info": {
   "codemirror_mode": {
    "name": "ipython",
    "version": 3
   },
   "file_extension": ".py",
   "mimetype": "text/x-python",
   "name": "python",
   "nbconvert_exporter": "python",
   "pygments_lexer": "ipython3",
   "version": "3.13.5"
  }
 },
 "nbformat": 4,
 "nbformat_minor": 5
}
